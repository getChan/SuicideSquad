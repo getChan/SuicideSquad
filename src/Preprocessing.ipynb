{
 "cells": [
  {
   "cell_type": "code",
<<<<<<< HEAD
   "execution_count": 5,
=======
   "execution_count": 11,
>>>>>>> refs/remotes/origin/master
   "metadata": {},
   "outputs": [],
   "source": [
    "import cv2\n",
    "import numpy as np\n",
    "from matplotlib import pyplot as plt\n",
    "import os\n",
    "import preprocessing as pre\n",
    "    \n",
    "%matplotlib inline"
   ]
  },
  {
   "cell_type": "code",
<<<<<<< HEAD
   "execution_count": 7,
=======
   "execution_count": 12,
>>>>>>> refs/remotes/origin/master
   "metadata": {},
   "outputs": [],
   "source": [
    "a = pre.VidToFrame('../data/raw/cute/cute (1).mp4')"
   ]
  },
  {
   "cell_type": "code",
<<<<<<< HEAD
   "execution_count": 8,
=======
   "execution_count": 13,
   "metadata": {},
   "outputs": [],
   "source": [
    "a = VidToFrame('../data/raw/cute/cute (1).mp4')"
   ]
  },
  {
   "cell_type": "code",
   "execution_count": 14,
>>>>>>> refs/remotes/origin/master
   "metadata": {},
   "outputs": [
    {
     "data": {
      "text/plain": [
       "(30, 360, 640)"
      ]
     },
<<<<<<< HEAD
     "execution_count": 8,
=======
     "execution_count": 14,
>>>>>>> refs/remotes/origin/master
     "metadata": {},
     "output_type": "execute_result"
    }
   ],
   "source": [
    "a.shape"
   ]
  },
  {
   "cell_type": "code",
<<<<<<< HEAD
   "execution_count": 12,
=======
   "execution_count": 15,
   "metadata": {},
   "outputs": [],
   "source": [
    "def FrameCount(load_path):\n",
    "    vidcap = cv2.VideoCapture(load_path)\n",
    "    frameCount = vidcap.get(cv2.CAP_PROP_FRAME_COUNT)\n",
    "    return int(frameCount)"
   ]
  },
  {
   "cell_type": "code",
   "execution_count": 16,
   "metadata": {},
   "outputs": [],
   "source": [
    "def getDataFrame(load_path):\n",
    "    ### 레이블 전처리\n",
    "    labels=[]\n",
    "    label_num = 0\n",
    "    label_dict={'cute':0, 'hi':1, 'love':2, 'thank':3, 'wait':4}\n",
    "\n",
    "    data = []\n",
    "    for parent, dirname, filename in os.walk(load_path):\n",
    "        if dirname != []: #디렉토리이름\n",
    "            continue\n",
    "        else:\n",
    "            # one-hot encoding\n",
    "            one_hot = [0]*len(label_dict)\n",
    "            one_hot[label_num] = 1\n",
    "            for _ in range(len(filename)):\n",
    "                labels.append(one_hot)\n",
    "            label_num += 1\n",
    "            # load_data\n",
    "            for f in filename:\n",
    "                data.append(VidToFrame(parent+'\\\\'+f))\n",
    "                \n",
    "    data = np.asarray(data)\n",
    "    labels = np.asarray(labels,dtype=np.int)\n",
    "\n",
    "    return data,labels"
   ]
  },
  {
   "cell_type": "code",
   "execution_count": 31,
>>>>>>> refs/remotes/origin/master
   "metadata": {},
   "outputs": [],
   "source": [
    "if __name__ == '__main__':\n",
    "    load_path = '../data/raw/cute/cute (1).mp4'\n",
<<<<<<< HEAD
    "    data= pre.VidToFrame(load_path)"
=======
    "    data = VidToFrame(load_path)\n",
    "    "
>>>>>>> refs/remotes/origin/master
   ]
  },
  {
   "cell_type": "code",
<<<<<<< HEAD
   "execution_count": 19,
=======
   "execution_count": 32,
>>>>>>> refs/remotes/origin/master
   "metadata": {},
   "outputs": [
    {
     "name": "stdout",
     "output_type": "stream",
     "text": [
      "1920\n"
     ]
    },
    {
     "data": {
      "text/plain": [
<<<<<<< HEAD
       "<matplotlib.image.AxesImage at 0x19e865c3da0>"
      ]
     },
     "execution_count": 19,
=======
       "<matplotlib.image.AxesImage at 0x1c80a7708d0>"
      ]
     },
     "execution_count": 32,
>>>>>>> refs/remotes/origin/master
     "metadata": {},
     "output_type": "execute_result"
    },
    {
     "data": {
<<<<<<< HEAD
      "image/png": "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\n",
=======
      "image/png": "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\n",
>>>>>>> refs/remotes/origin/master
      "text/plain": [
       "<Figure size 432x288 with 1 Axes>"
      ]
     },
     "metadata": {
      "needs_background": "light"
     },
     "output_type": "display_data"
    }
   ],
   "source": [
<<<<<<< HEAD
    "plt.imshow(data[10], cmap='gray')"
=======
    "print(len(data[0][0]))\n",
    "plt.imshow(data[0][0])"
   ]
  },
  {
   "cell_type": "code",
   "execution_count": null,
   "metadata": {},
   "outputs": [],
   "source": [
    "label"
>>>>>>> refs/remotes/origin/master
   ]
  },
  {
   "cell_type": "code",
   "execution_count": null,
   "metadata": {},
   "outputs": [],
   "source": []
  }
 ],
 "metadata": {
  "kernelspec": {
   "display_name": "Python 3",
   "language": "python",
   "name": "python3"
  },
  "language_info": {
   "codemirror_mode": {
    "name": "ipython",
    "version": 3
   },
   "file_extension": ".py",
   "mimetype": "text/x-python",
   "name": "python",
   "nbconvert_exporter": "python",
   "pygments_lexer": "ipython3",
   "version": "3.6.6"
  }
 },
 "nbformat": 4,
 "nbformat_minor": 2
}
