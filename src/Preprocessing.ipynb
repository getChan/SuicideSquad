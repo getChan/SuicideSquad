{
 "cells": [
  {
   "cell_type": "code",
   "execution_count": 11,
   "metadata": {},
   "outputs": [],
   "source": [
    "import cv2\n",
    "import numpy as np\n",
    "from matplotlib import pyplot as plt\n",
    "import os\n",
    "    \n",
    "%matplotlib inline"
   ]
  },
  {
   "cell_type": "code",
   "execution_count": 12,
   "metadata": {},
   "outputs": [],
   "source": [
    "def VidToFrame(load_path):\n",
    "    frames = list()\n",
    "    total_frames = FrameCount(load_path)\n",
    "    # 사용할 프레임 수\n",
    "    FRAME_NUM = 30\n",
    "    start_frame = np.random.randint(0, total_frames-FRAME_NUM)\n",
    "\n",
    "    try:\n",
    "        vidcap = cv2.VideoCapture(load_path)\n",
    "        success, image = vidcap.read()\n",
    "\n",
    "        if not success :\n",
    "            print('Video Read Error')\n",
    "        cnt = 0 \n",
    "        while success:\n",
    "            \n",
    "            success, image = vidcap.read()\n",
    "\n",
    "            hsv = cv2.cvtColor(image, cv2.COLOR_BGR2YCrCb)\n",
    "            lower_skin = np.array([0, 133, 77])\n",
    "            upper_skin = np.array([255, 173, 127])\n",
    "\n",
    "            mask = cv2.inRange(hsv, lower_skin, upper_skin)\n",
    "            \n",
    "            width = 1920\n",
    "            height = 1080\n",
    "            \n",
    "            mask = cv2.resize(mask, dsize=(width, height), interpolation=cv2.INTER_LINEAR)\n",
    "\n",
    "            if cv2.waitKey(10) == 27:                     # exit if Escape is hit\n",
    "                break\n",
    "            if cnt >= start_frame and cnt < start_frame+FRAME_NUM:\n",
    "                frames.append(mask)\n",
    "            cnt += 1\n",
    "\n",
    "        vidcap.release()\n",
    "    except Exception:\n",
    "        pass\n",
    "    frames = np.asarray(frames)\n",
    "    frames = np.expand_dims(frames, axis=-1)\n",
    "    return frames"
   ]
  },
  {
   "cell_type": "code",
   "execution_count": 13,
   "metadata": {},
   "outputs": [],
   "source": [
    "a = VidToFrame('../data/raw/cute/cute (1).mp4')"
   ]
  },
  {
   "cell_type": "code",
   "execution_count": 14,
   "metadata": {},
   "outputs": [
    {
     "data": {
      "text/plain": [
       "(30, 1080, 1920, 1)"
      ]
     },
     "execution_count": 14,
     "metadata": {},
     "output_type": "execute_result"
    }
   ],
   "source": [
    "a.shape"
   ]
  },
  {
   "cell_type": "code",
   "execution_count": 15,
   "metadata": {},
   "outputs": [],
   "source": [
    "def FrameCount(load_path):\n",
    "    vidcap = cv2.VideoCapture(load_path)\n",
    "    frameCount = vidcap.get(cv2.CAP_PROP_FRAME_COUNT)\n",
    "    return int(frameCount)"
   ]
  },
  {
   "cell_type": "code",
   "execution_count": 16,
   "metadata": {},
   "outputs": [],
   "source": [
    "def getDataFrame(load_path):\n",
    "    ### 레이블 전처리\n",
    "    labels=[]\n",
    "    label_num = 0\n",
    "    label_dict={'cute':0, 'hi':1, 'love':2, 'thank':3, 'wait':4}\n",
    "\n",
    "    data = []\n",
    "    for parent, dirname, filename in os.walk(load_path):\n",
    "        if dirname != []: #디렉토리이름\n",
    "            continue\n",
    "        else:\n",
    "            # one-hot encoding\n",
    "            one_hot = [0]*len(label_dict)\n",
    "            one_hot[label_num] = 1\n",
    "            for _ in range(len(filename)):\n",
    "                labels.append(one_hot)\n",
    "            label_num += 1\n",
    "            # load_data\n",
    "            for f in filename:\n",
    "                data.append(VidToFrame(parent+'\\\\'+f))\n",
    "                \n",
    "    data = np.asarray(data)\n",
    "    labels = np.asarray(labels,dtype=np.int)\n",
    "\n",
    "    return data,labels"
   ]
  },
  {
   "cell_type": "code",
   "execution_count": 31,
   "metadata": {},
   "outputs": [],
   "source": [
    "if __name__ == '__main__':\n",
    "    load_path = '../data/raw/cute/cute (1).mp4'\n",
    "    data = VidToFrame(load_path)\n",
    "    "
   ]
  },
  {
   "cell_type": "code",
   "execution_count": 32,
   "metadata": {},
   "outputs": [
    {
     "name": "stdout",
     "output_type": "stream",
     "text": [
      "1920\n"
     ]
    },
    {
     "data": {
      "text/plain": [
       "<matplotlib.image.AxesImage at 0x1c80a7708d0>"
      ]
     },
     "execution_count": 32,
     "metadata": {},
     "output_type": "execute_result"
    },
    {
     "data": {
      "image/png": "[encoded data removed]",
      "text/plain": [
       "<Figure size 432x288 with 1 Axes>"
      ]
     },
     "metadata": {
      "needs_background": "light"
     },
     "output_type": "display_data"
    }
   ],
   "source": [
    "print(len(data[0][0]))\n",
    "plt.imshow(data[0][0])"
   ]
  },
  {
   "cell_type": "code",
   "execution_count": null,
   "metadata": {},
   "outputs": [],
   "source": [
    "label"
   ]
  },
  {
   "cell_type": "code",
   "execution_count": null,
   "metadata": {},
   "outputs": [],
   "source": []
  }
 ],
 "metadata": {
  "kernelspec": {
   "display_name": "Python 3",
   "language": "python",
   "name": "python3"
  },
  "language_info": {
   "codemirror_mode": {
    "name": "ipython",
    "version": 3
   },
   "file_extension": ".py",
   "mimetype": "text/x-python",
   "name": "python",
   "nbconvert_exporter": "python",
   "pygments_lexer": "ipython3",
   "version": "3.6.6"
  }
 },
 "nbformat": 4,
 "nbformat_minor": 2
}
