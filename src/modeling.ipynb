{
 "cells": [
  {
   "cell_type": "code",
   "execution_count": 1,
   "metadata": {},
   "outputs": [],
   "source": [
    "import tensorflow as tf\n",
    "import numpy as np\n",
    "from tqdm import tqdm\n",
    "import time\n",
    "import preprocessing as pre\n",
    "import tensorflow.contrib.layers as layers\n",
    "import random\n",
    "import matplotlib.pyplot as plt"
   ]
  },
  {
   "cell_type": "code",
   "execution_count": 12,
   "metadata": {},
   "outputs": [],
   "source": [
    "data, label = pre.getDataFrame('F:/raw/')"
   ]
  },
  {
   "cell_type": "code",
   "execution_count": 13,
   "metadata": {},
   "outputs": [
    {
     "data": {
      "text/plain": [
       "(1, 30, 360, 640, 3)"
      ]
     },
     "execution_count": 13,
     "metadata": {},
     "output_type": "execute_result"
    }
   ],
   "source": [
    "data.shape"
   ]
  },
  {
   "cell_type": "code",
   "execution_count": 14,
   "metadata": {},
   "outputs": [
    {
     "data": {
      "text/plain": [
       "(1, 5)"
      ]
     },
     "execution_count": 14,
     "metadata": {},
     "output_type": "execute_result"
    }
   ],
   "source": [
    "label.shape"
   ]
  },
  {
   "cell_type": "code",
   "execution_count": 17,
   "metadata": {},
   "outputs": [
    {
     "data": {
      "text/plain": [
       "<matplotlib.image.AxesImage at 0x221f7d7d240>"
      ]
     },
     "execution_count": 17,
     "metadata": {},
     "output_type": "execute_result"
    },
    {
     "data": {
      "image/png": "[encoded data removed]",
      "text/plain": [
       "<Figure size 432x288 with 1 Axes>"
      ]
     },
     "metadata": {
      "needs_background": "light"
     },
     "output_type": "display_data"
    }
   ],
   "source": [
    "plt.imshow(data[0][0])"
   ]
  },
  {
   "cell_type": "markdown",
   "metadata": {},
   "source": [
    "# Data Split"
   ]
  },
  {
   "cell_type": "code",
   "execution_count": null,
   "metadata": {},
   "outputs": [
    {
     "data": {
      "text/plain": [
       "30.799999999999997"
      ]
     },
     "execution_count": 7,
     "metadata": {},
     "output_type": "execute_result"
    }
   ],
   "source": [
    "len(data)*0.7"
   ]
  },
  {
   "cell_type": "code",
   "execution_count": 3,
   "metadata": {},
   "outputs": [
    {
     "ename": "NameError",
     "evalue": "name 'data' is not defined",
     "output_type": "error",
     "traceback": [
      "\u001b[1;31m---------------------------------------------------------------------------\u001b[0m",
      "\u001b[1;31mNameError\u001b[0m                                 Traceback (most recent call last)",
      "\u001b[1;32m<ipython-input-3-65497d84593c>\u001b[0m in \u001b[0;36m<module>\u001b[1;34m\u001b[0m\n\u001b[1;32m----> 1\u001b[1;33m \u001b[0mtrain_index\u001b[0m \u001b[1;33m=\u001b[0m \u001b[0mnp\u001b[0m\u001b[1;33m.\u001b[0m\u001b[0mrandom\u001b[0m\u001b[1;33m.\u001b[0m\u001b[0mchoice\u001b[0m\u001b[1;33m(\u001b[0m\u001b[0mlen\u001b[0m\u001b[1;33m(\u001b[0m\u001b[0mdata\u001b[0m\u001b[1;33m)\u001b[0m\u001b[1;33m,\u001b[0m \u001b[0mint\u001b[0m\u001b[1;33m(\u001b[0m\u001b[0mlen\u001b[0m\u001b[1;33m(\u001b[0m\u001b[0mdata\u001b[0m\u001b[1;33m)\u001b[0m\u001b[1;33m*\u001b[0m\u001b[1;36m0.7\u001b[0m\u001b[1;33m)\u001b[0m\u001b[1;33m,\u001b[0m \u001b[0mreplace\u001b[0m\u001b[1;33m=\u001b[0m\u001b[1;32mFalse\u001b[0m\u001b[1;33m)\u001b[0m\u001b[1;33m\u001b[0m\u001b[1;33m\u001b[0m\u001b[0m\n\u001b[0m",
      "\u001b[1;31mNameError\u001b[0m: name 'data' is not defined"
     ]
    }
   ],
   "source": [
    "train_index = np.random.choice(len(data), int(len(data)*0.7), replace=False)"
   ]
  },
  {
   "cell_type": "code",
   "execution_count": null,
   "metadata": {},
   "outputs": [],
   "source": [
    "train_index"
   ]
  },
  {
   "cell_type": "code",
   "execution_count": null,
   "metadata": {},
   "outputs": [],
   "source": [
    "# X_train = data[-test_index]\n",
    "# y_train = label[-test_index]\n",
    "X_train = data[train_index]\n",
    "y_train = label[train_index]"
   ]
  },
  {
   "cell_type": "code",
   "execution_count": null,
   "metadata": {},
   "outputs": [],
   "source": [
    "# X_train = data[:30]\n",
    "# y_train = label[:30]\n",
    "# X_test = data[30:]\n",
    "# y_test = label[30:]"
   ]
  },
  {
   "cell_type": "code",
   "execution_count": null,
   "metadata": {},
   "outputs": [
    {
     "data": {
      "text/plain": [
       "(30, 30, 360, 640, 3)"
      ]
     },
     "execution_count": 12,
     "metadata": {},
     "output_type": "execute_result"
    }
   ],
   "source": [
    "X_train.shape"
   ]
  },
  {
   "cell_type": "code",
   "execution_count": null,
   "metadata": {},
   "outputs": [
    {
     "data": {
      "text/plain": [
       "(30, 5)"
      ]
     },
     "execution_count": 13,
     "metadata": {},
     "output_type": "execute_result"
    }
   ],
   "source": [
    "y_train.shape"
   ]
  },
  {
   "cell_type": "markdown",
   "metadata": {},
   "source": [
    "# CNN"
   ]
  },
  {
   "cell_type": "markdown",
   "metadata": {},
   "source": [
    "## Train"
   ]
  },
  {
   "cell_type": "code",
   "execution_count": null,
   "metadata": {},
   "outputs": [],
   "source": [
    "class Model(object):\n",
    "    def __init__(self,\n",
    "            num_class = 5,\n",
    "            keep_prob = 0.6,\n",
    "            batch_size = 10,\n",
    "            epoch=1,\n",
    "            lr = 1e-4):\n",
    "        self.IMG_WIDTH = 640\n",
    "        self.IMG_HEIGHT = 360\n",
    "        \n",
    "        self.graph = tf.Graph()\n",
    "        self.num_class = num_class\n",
    "        self.epoch = epoch\n",
    "        self.CLIP_LENGTH = 30\n",
    "        self.keep_prob = keep_prob\n",
    "        self.batch_size = batch_size\n",
    "        \n",
    "        self.n_step_epoch=int(30/batch_size)\n",
    "        with self.graph.as_default():\n",
    "            # [batch, in_depth, in_height, in_width, in_channels]\n",
    "            self.inputs = tf.placeholder(tf.float32, [None, self.CLIP_LENGTH, self.IMG_HEIGHT, self.IMG_WIDTH, 3])\n",
    "            self.labels = tf.placeholder(tf.int64, [None, 5])\n",
    "\n",
    "            self.initializer = layers.xavier_initializer()\n",
    "            self.global_step = tf.Variable(0, trainable = False, name = \"global_step\")\n",
    "            self.lr = lr\n",
    "            tf.add_to_collection(tf.GraphKeys.GLOBAL_STEP, self.global_step)\n",
    "         \n",
    "    def conv3d(self, inputs, shape, name, w_name, b_name):\n",
    "        with self.graph.as_default():\n",
    "            with tf.variable_scope('var_name') as var_scope:\n",
    "                W = tf.get_variable(name = w_name, shape = shape, initializer = self.initializer, dtype = tf.float32)\n",
    "                b = tf.get_variable(name = b_name, shape = shape[-1], initializer = tf.zeros_initializer(), dtype = tf.float32)\n",
    "                tf.add_to_collection(tf.GraphKeys.WEIGHTS, W)\n",
    "                tf.add_to_collection(tf.GraphKeys.BIASES, b)\n",
    "            return tf.nn.relu(tf.nn.bias_add(tf.nn.conv3d(inputs, W, strides = [1, 1, 1, 1, 1], padding = \"SAME\"), b))\n",
    "        \n",
    "    def fc(self, inputs, shape, name,w_name,b_name,activation = True):\n",
    "        with self.graph.as_default():\n",
    "            with tf.variable_scope('var_name') as var_scope:\n",
    "                W = tf.get_variable(name = w_name, shape = shape, initializer = self.initializer, dtype = tf.float32)\n",
    "                b = tf.get_variable(name = b_name, shape = shape[-1], initializer = tf.zeros_initializer(), dtype = tf.float32)\n",
    "                tf.add_to_collection(tf.GraphKeys.WEIGHTS, W)\n",
    "                tf.add_to_collection(tf.GraphKeys.BIASES, b)\n",
    "\n",
    "            if activation:\n",
    "                return tf.nn.relu(tf.nn.bias_add(tf.matmul(inputs, W), b))\n",
    "            else:\n",
    "                return tf.nn.bias_add(tf.matmul(inputs, W), b)\n",
    "            \n",
    "    def parseNet(self, net, netstruct, istraining = True):\n",
    "        for key in netstruct:\n",
    "            if key[0] == \"conv\":\n",
    "                net = self.conv3d(net, key[2], key[1],key[3], key[4])\n",
    "            elif key[0] == \"fc\":\n",
    "                net = self.fc(net, key[2], key[1], key[3], key[4],activation = key[-1])\n",
    "            elif key[0] == \"maxpool\":\n",
    "                net = tf.nn.max_pool3d(net, ksize = key[2], strides = key[2], padding = \"SAME\", name = key[1])\n",
    "            elif key[0] == \"dropout\" and istraining:\n",
    "                net = tf.nn.dropout(net, key[2], name = key[1])\n",
    "            elif key[0] == \"reshape\":\n",
    "                net = tf.reshape(net, key[-1])\n",
    "            elif key[0] == \"softmax\":\n",
    "                net = tf.nn.softmax(net)\n",
    "            elif key[0] == \"transpose\":\n",
    "                net = tf.transpose(net, perm=key[-1])\n",
    "        return net\n",
    "\n",
    "    def test(self, modelpath, data, label):\n",
    "        with self.graph.as_default():\n",
    "            \n",
    "#             [filter_depth, filter_height, filter_width, in_channels, out_channels]\n",
    "            c3d_net = [\n",
    "                [\"conv\", \"conv1\", [3, 3, 3, 3, 64], 'wc1', 'bc1'],\n",
    "                [\"maxpool\", \"pool1\", [1, 1, 2, 2, 1]],\n",
    "                [\"conv\", \"conv2\", [3, 3, 3, 64, 128], 'wc2', 'bc2'],\n",
    "                [\"maxpool\", \"pool2\", [1, 2, 2, 2, 1]],\n",
    "                [\"conv\", \"conv3a\", [3, 3, 3, 128, 256], 'wc3a', 'bc3a'],\n",
    "                [\"conv\", \"conv3b\", [3, 3, 3, 256, 256], 'wc3b', 'bc3b'],\n",
    "                [\"maxpool\", \"pool3\", [1, 2, 2, 2, 1]],\n",
    "                [\"conv\", \"conv4a\", [3, 3, 3, 256, 512], 'wc4a', 'bc4a'],\n",
    "                [\"conv\", \"conv4b\", [3, 3, 3, 512, 512], 'wc4b', 'bc4b'],\n",
    "                [\"maxpool\", \"pool4\", [1, 2, 2, 2, 1]],\n",
    "                [\"conv\", \"conv5a\", [3, 3, 3, 512, 512], 'wc5a', 'bc5a'],\n",
    "                [\"conv\", \"conv5b\", [3, 3, 3, 512, 512], 'wc5b', 'bc5b'],\n",
    "                [\"maxpool\", \"pool5\", [1, 2, 2, 2, 1]],\n",
    "                [\"transpose\", [0, 1, 4, 2, 3]],  #only use it if you restore the sports1m_finetuning_ucf101.model, otherwise uncomment it,(e.g use conv3d_deepnetA_sport1m_iter_1900000_TF.model)\n",
    "                [\"reshape\", [-1, 8192]],\n",
    "                [\"fc\", \"fc1\", [8192, 4096], 'wd1', 'bd1', True],\n",
    "                [\"dropout\", \"dropout1\", self.keep_prob],\n",
    "                [\"fc\", \"fc2\", [4096, 4096],'wd2','bd2', True],\n",
    "                [\"dropout\", \"dropout2\", self.keep_prob],\n",
    "                [\"fc\", \"fc3\", [4096, self.num_class],'wout','bout',False],\n",
    "            ]\n",
    "\n",
    "            # print(tf.trainable_variables())\n",
    "            # print(var_list)\n",
    "            # print(tf.get_collection(tf.GraphKeys.WEIGHTS))\n",
    "\n",
    "            # gpu_options = tf.GPUOptions(per_process_gpu_memory_fraction = 0.5)\n",
    "\n",
    "            with tf.Session() as sess:\n",
    "                logits = self.parseNet(self.inputs, c3d_net)\n",
    "                softmax_logits = tf.nn.softmax(logits)\n",
    "                # int_label = tf.one_hot(self.labels, self.num_class)\n",
    "                int_label = self.labels  # [bs,101]-->[bs*4 or 8 or 16,101]\n",
    "                # int_label=tf.concat(\n",
    "                #     [int_label,int_label,int_label,int_label,],axis=0)\n",
    "\n",
    "                int_label=tf.cast(int_label,dtype=tf.int64)\n",
    "#                 task_loss = tf.reduce_sum(\n",
    "#                     tf.nn.sparse_softmax_cross_entropy_with_logits(logits=logits, labels=int_label))\n",
    "                task_loss = tf.reduce_sum(tf.nn.softmax_cross_entropy_with_logits_v2(logits = logits, labels = int_label))\n",
    "                # task_loss = -tf.reduce_sum(int_label*tf.log(logits))\n",
    "                acc = tf.reduce_mean(tf.cast(tf.equal(tf.argmax(softmax_logits, axis=-1), int_label), tf.float32))\n",
    "                right_count = tf.reduce_sum(tf.cast(tf.equal(tf.argmax(softmax_logits, axis=1), int_label), tf.int32))\n",
    "    \n",
    "                reg_loss = layers.apply_regularization(layers.l2_regularizer(5e-4),\n",
    "                                                       tf.get_collection(tf.GraphKeys.WEIGHTS))\n",
    "                total_loss = task_loss + reg_loss\n",
    "                # train_var_list = [v for v in tf.trainable_variables() if v.name.find(\"conv\") == -1]\n",
    "                train_op = tf.train.GradientDescentOptimizer(self.lr).minimize(\n",
    "                    total_loss, global_step=self.global_step)\n",
    "#                 train_op = tf.train.MomentumOptimizer(self.lr,0.9).minimize(\n",
    "#                     total_loss, global_step = self.global_step,var_list=train_var_list)\n",
    "    \n",
    "    \n",
    "                total_para = np.sum([np.prod(v.get_shape().as_list()) for v in tf.trainable_variables()])\n",
    "                print('total_para:', total_para)\n",
    "\n",
    "                init = tf.global_variables_initializer()\n",
    "                # var_list = [v for v in tf.trainable_variables() if v.name.find(\"conv\") != -1]  # 初始化只加载卷积层参数\n",
    "                # print(var_list)\n",
    "                # saver = tf.train.Saver(tf.global_variables())\n",
    "                sess.run(init)\n",
    "                saver = tf.train.Saver(tf.trainable_variables())\n",
    "                # saver.restore(sess, tf.train.latest_checkpoint(modelpath))\n",
    "                # saver.restore(sess, modelpath + \"sports1m_finetuning_ucf101.model\")\n",
    "                # print(\"Model Loading Done!\")\n",
    "                step = 0\n",
    "                print_freq = 2\n",
    "                \n",
    "                for one_epoch in range(self.epoch):\n",
    "                    epostarttime = time.time()\n",
    "                    starttime = time.time()\n",
    "                    total_v = 0.0\n",
    "                    test_correct_num = 0\n",
    "                    next_start_pos = 0\n",
    "                    for i in tqdm(range(int(len(data) / self.batch_size))):\n",
    "                        step += 1\n",
    "                        total_v += self.batch_size\n",
    "                        train_batch = data[next_start_pos:next_start_pos+self.batch_size] \n",
    "                        label_batch = label[next_start_pos:next_start_pos+self.batch_size] \n",
    "                        next_start_pos += self.batch_size \n",
    "                        assert len(train_batch)==self.batch_size\n",
    "                        val_feed = {self.inputs: train_batch, self.labels: label_batch}\n",
    "                        \n",
    "                    test_correct_num += sess.run(right_count, val_feed)\n",
    "                    print('test acc:', test_correct_num / total_v, 'test_correct_num:', test_correct_num,\n",
    "                          'total_v:', total_v)\n",
    "            "
   ]
  },
  {
   "cell_type": "code",
   "execution_count": null,
   "metadata": {},
   "outputs": [
    {
     "name": "stdout",
     "output_type": "stream",
     "text": [
      "total_para: 78016261\n"
     ]
    },
    {
     "name": "stderr",
     "output_type": "stream",
     "text": [
      "100%|████████████████████████████████████████████████████████████████████████████████████████████| 3/3 [00:00<?, ?it/s]\n"
     ]
    }
   ],
   "source": [
    "if __name__ == \"__main__\":\n",
    "    c3dnet = Model()\n",
    "    c3dnet.test('path', X_train, y_train)"
   ]
  }
 ],
 "metadata": {
  "kernelspec": {
   "display_name": "Python 3",
   "language": "python",
   "name": "python3"
  },
  "language_info": {
   "codemirror_mode": {
    "name": "ipython",
    "version": 3
   },
   "file_extension": ".py",
   "mimetype": "text/x-python",
   "name": "python",
   "nbconvert_exporter": "python",
   "pygments_lexer": "ipython3",
   "version": "3.6.7"
  }
 },
 "nbformat": 4,
 "nbformat_minor": 2
}
