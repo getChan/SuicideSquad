{
 "cells": [
  {
   "cell_type": "code",
   "execution_count": 1,
   "metadata": {},
   "outputs": [],
   "source": [
    "import tensorflow as tf\n",
    "import numpy as np\n",
    "from tqdm import tqdm\n",
    "import time\n",
    "import preprocessing as pre\n",
    "import tensorflow.contrib.layers as layers\n",
    "import random\n",
    "import matplotlib.pyplot as plt"
   ]
  },
  {
   "cell_type": "code",
   "execution_count": 2,
   "metadata": {},
   "outputs": [],
   "source": [
    "data, label = pre.getDataFrame('F:/raw/')"
   ]
  },
  {
   "cell_type": "code",
   "execution_count": 3,
   "metadata": {},
   "outputs": [
    {
     "data": {
      "text/plain": [
       "(44, 30, 112, 112, 3)"
      ]
     },
     "execution_count": 3,
     "metadata": {},
     "output_type": "execute_result"
    }
   ],
   "source": [
    "data.shape"
   ]
  },
  {
   "cell_type": "code",
   "execution_count": 4,
   "metadata": {},
   "outputs": [
    {
     "data": {
      "text/plain": [
       "(44, 5)"
      ]
     },
     "execution_count": 4,
     "metadata": {},
     "output_type": "execute_result"
    }
   ],
   "source": [
    "label.shape"
   ]
  },
  {
   "cell_type": "code",
   "execution_count": 5,
   "metadata": {},
   "outputs": [
    {
     "data": {
      "text/plain": [
       "<matplotlib.image.AxesImage at 0x2042b5c58d0>"
      ]
     },
     "execution_count": 5,
     "metadata": {},
     "output_type": "execute_result"
    },
    {
     "data": {
      "image/png": "[encoded data removed]",
      "text/plain": [
       "<Figure size 432x288 with 1 Axes>"
      ]
     },
     "metadata": {
      "needs_background": "light"
     },
     "output_type": "display_data"
    }
   ],
   "source": [
    "plt.imshow(data[0][0], cmap='gray')"
   ]
  },
  {
   "cell_type": "markdown",
   "metadata": {},
   "source": [
    "# Data Split"
   ]
  },
  {
   "cell_type": "code",
   "execution_count": 6,
   "metadata": {},
   "outputs": [
    {
     "data": {
      "text/plain": [
       "30.799999999999997"
      ]
     },
     "execution_count": 6,
     "metadata": {},
     "output_type": "execute_result"
    }
   ],
   "source": [
    "len(data)*0.7"
   ]
  },
  {
   "cell_type": "code",
   "execution_count": 7,
   "metadata": {},
   "outputs": [],
   "source": [
    "train_index = np.random.choice(len(data), int(len(data)*0.7), replace=False)"
   ]
  },
  {
   "cell_type": "code",
   "execution_count": 8,
   "metadata": {},
   "outputs": [
    {
     "data": {
      "text/plain": [
       "array([19, 20, 23, 33, 28, 15, 27, 36,  6, 37,  5, 24, 30, 11, 35, 16, 39,\n",
       "        0,  7, 32,  4, 22, 26, 12, 17,  3, 10, 29,  9,  1])"
      ]
     },
     "execution_count": 8,
     "metadata": {},
     "output_type": "execute_result"
    }
   ],
   "source": [
    "train_index"
   ]
  },
  {
   "cell_type": "code",
   "execution_count": 9,
   "metadata": {},
   "outputs": [],
   "source": [
    "# X_train = data[-test_index]\n",
    "# y_train = label[-test_index]\n",
    "X_train = data[train_index]\n",
    "y_train = label[train_index]"
   ]
  },
  {
   "cell_type": "code",
   "execution_count": 10,
   "metadata": {},
   "outputs": [],
   "source": [
    "# X_train = data[:30]\n",
    "# y_train = label[:30]\n",
    "# X_test = data[30:]\n",
    "# y_test = label[30:]"
   ]
  },
  {
   "cell_type": "code",
   "execution_count": 11,
   "metadata": {},
   "outputs": [
    {
     "data": {
      "text/plain": [
       "(30, 30, 112, 112, 3)"
      ]
     },
     "execution_count": 11,
     "metadata": {},
     "output_type": "execute_result"
    }
   ],
   "source": [
    "X_train.shape"
   ]
  },
  {
   "cell_type": "code",
   "execution_count": 12,
   "metadata": {},
   "outputs": [
    {
     "data": {
      "text/plain": [
       "(30, 5)"
      ]
     },
     "execution_count": 12,
     "metadata": {},
     "output_type": "execute_result"
    }
   ],
   "source": [
    "y_train.shape"
   ]
  },
  {
   "cell_type": "markdown",
   "metadata": {},
   "source": [
    "# CNN"
   ]
  },
  {
   "cell_type": "markdown",
   "metadata": {},
   "source": [
    "## Train"
   ]
  },
  {
   "cell_type": "code",
   "execution_count": 31,
   "metadata": {},
   "outputs": [],
   "source": [
    "class Model(object):\n",
    "    def __init__(self,\n",
    "            num_class = 5,\n",
    "            keep_prob = 0.7,\n",
    "            batch_size = 2,\n",
    "            epoch=10,\n",
    "            lr = 1e-4):\n",
    "        self.IMG_WIDTH = 112\n",
    "        self.IMG_HEIGHT = 112\n",
    "        \n",
    "        self.graph = tf.Graph()\n",
    "        self.num_class = num_class\n",
    "        self.epoch = epoch\n",
    "        self.CLIP_LENGTH = 30\n",
    "        self.keep_prob = keep_prob\n",
    "        self.batch_size = batch_size\n",
    "        \n",
    "        self.n_step_epoch=int(30/batch_size)\n",
    "        with self.graph.as_default():\n",
    "            # [batch, in_depth, in_height, in_width, in_channels]\n",
    "            self.inputs = tf.placeholder(tf.float32, [None, self.CLIP_LENGTH, self.IMG_HEIGHT, self.IMG_WIDTH, 3])\n",
    "            self.labels = tf.placeholder(tf.int64, [None, num_class])\n",
    "\n",
    "            self.initializer = layers.xavier_initializer()\n",
    "            self.global_step = tf.Variable(0, trainable = False, name = \"global_step\")\n",
    "            self.lr = lr\n",
    "            tf.add_to_collection(tf.GraphKeys.GLOBAL_STEP, self.global_step)\n",
    "         \n",
    "    def conv3d(self, inputs, shape, name, w_name, b_name):\n",
    "        with self.graph.as_default():\n",
    "            with tf.variable_scope('var_name') as var_scope:\n",
    "                W = tf.get_variable(name = w_name, shape = shape, initializer = self.initializer, dtype = tf.float32)\n",
    "                b = tf.get_variable(name = b_name, shape = shape[-1], initializer = tf.zeros_initializer(), dtype = tf.float32)\n",
    "                tf.add_to_collection(tf.GraphKeys.WEIGHTS, W)\n",
    "                tf.add_to_collection(tf.GraphKeys.BIASES, b)\n",
    "            return tf.nn.relu(tf.nn.bias_add(tf.nn.conv3d(inputs, W, strides = [1, 1, 1, 1, 1], padding = \"SAME\"), b))\n",
    "        \n",
    "    def fc(self, inputs, shape, name,w_name,b_name,activation = True):\n",
    "        with self.graph.as_default():\n",
    "            with tf.variable_scope('var_name') as var_scope:\n",
    "                W = tf.get_variable(name = w_name, shape = shape, initializer = self.initializer, dtype = tf.float32)\n",
    "                b = tf.get_variable(name = b_name, shape = shape[-1], initializer = tf.zeros_initializer(), dtype = tf.float32)\n",
    "                tf.add_to_collection(tf.GraphKeys.WEIGHTS, W)\n",
    "                tf.add_to_collection(tf.GraphKeys.BIASES, b)\n",
    "\n",
    "            if activation:\n",
    "                return tf.nn.relu(tf.nn.bias_add(tf.matmul(inputs, W), b))\n",
    "            else:\n",
    "                return tf.nn.bias_add(tf.matmul(inputs, W), b)\n",
    "            \n",
    "    def parseNet(self, net, netstruct, istraining = True):\n",
    "        for key in netstruct:\n",
    "            if key[0] == \"conv\":\n",
    "                net = self.conv3d(net, key[2], key[1],key[3], key[4])\n",
    "            elif key[0] == \"fc\":\n",
    "                net = self.fc(net, key[2], key[1], key[3], key[4],activation = key[-1])\n",
    "            elif key[0] == \"maxpool\":\n",
    "                net = tf.nn.max_pool3d(net, ksize = key[2], strides = key[2], padding = \"SAME\", name = key[1])\n",
    "            elif key[0] == \"dropout\" and istraining:\n",
    "                net = tf.nn.dropout(net, key[2], name = key[1])\n",
    "            elif key[0] == \"reshape\":\n",
    "                net = tf.reshape(net, key[-1])\n",
    "            elif key[0] == \"softmax\":\n",
    "                net = tf.nn.softmax(net)\n",
    "            elif key[0] == \"transpose\":\n",
    "                net = tf.transpose(net, perm=key[-1])\n",
    "        return net\n",
    "\n",
    "    def train(self, data, label):\n",
    "        with self.graph.as_default():\n",
    "            \n",
    "#             [filter_depth, filter_height, filter_width, in_channels, out_channels]\n",
    "            c3d_net = [\n",
    "                [\"conv\", \"conv1\", [3, 3, 3, 3, 64], 'wc1', 'bc1'],\n",
    "                [\"maxpool\", \"pool1\", [1, 1, 2, 2, 1]],\n",
    "                [\"conv\", \"conv2\", [3, 3, 3, 64, 128], 'wc2', 'bc2'],\n",
    "                [\"maxpool\", \"pool2\", [1, 2, 2, 2, 1]],\n",
    "                [\"conv\", \"conv3a\", [3, 3, 3, 128, 256], 'wc3a', 'bc3a'],\n",
    "                [\"conv\", \"conv3b\", [3, 3, 3, 256, 256], 'wc3b', 'bc3b'],\n",
    "                [\"maxpool\", \"pool3\", [1, 2, 2, 2, 1]],\n",
    "                [\"conv\", \"conv4a\", [3, 3, 3, 256, 512], 'wc4a', 'bc4a'],\n",
    "                [\"conv\", \"conv4b\", [3, 3, 3, 512, 512], 'wc4b', 'bc4b'],\n",
    "                [\"maxpool\", \"pool4\", [1, 2, 2, 2, 1]],\n",
    "                [\"conv\", \"conv5a\", [3, 3, 3, 512, 512], 'wc5a', 'bc5a'],\n",
    "                [\"conv\", \"conv5b\", [3, 3, 3, 512, 512], 'wc5b', 'bc5b'],\n",
    "                [\"maxpool\", \"pool5\", [1, 2, 2, 2, 1]],\n",
    "                [\"transpose\", [0, 1, 4, 2, 3]],  #only use it if you restore the sports1m_finetuning_ucf101.model, otherwise uncomment it,(e.g use conv3d_deepnetA_sport1m_iter_1900000_TF.model)\n",
    "                [\"reshape\", [-1, 8192]],\n",
    "                [\"fc\", \"fc1\", [8192, 4096], 'wd1', 'bd1', True],\n",
    "                [\"dropout\", \"dropout1\", self.keep_prob],\n",
    "                [\"fc\", \"fc2\", [4096, 4096],'wd2','bd2', True],\n",
    "                [\"dropout\", \"dropout2\", self.keep_prob],\n",
    "                [\"fc\", \"fc3\", [4096, self.num_class],'wout','bout',False],\n",
    "            ]\n",
    "\n",
    "#             print(tf.trainable_variables())\n",
    "#             print(var_list)\n",
    "#             print(tf.get_collection(tf.GraphKeys.WEIGHTS))\n",
    "\n",
    "#             gpu_options = tf.GPUOptions(per_process_gpu_memory_fraction = 0.5)\n",
    "\n",
    "            with tf.Session() as sess:\n",
    "                global_step = tf.Variable(0, trainable=False, name='global_step')\n",
    "                logits = self.parseNet(self.inputs, c3d_net)\n",
    "                softmax_logits = tf.nn.softmax(logits)\n",
    "                \n",
    "                # int_label = tf.one_hot(self.labels, self.num_class)\n",
    "                int_label = self.labels  # [bs,101]-->[bs*4 or 8 or 16,101]\n",
    "#                 int_label=tf.concat(\n",
    "#                     [int_label,int_label,int_label,int_label,],axis=0)\n",
    "\n",
    "                int_label=tf.cast(int_label,dtype=tf.int64)\n",
    "#                 task_loss = tf.reduce_sum(\n",
    "#                     tf.nn.sparse_softmax_cross_entropy_with_logits(logits=logits, labels=int_label))\n",
    "                task_loss = tf.reduce_sum(tf.nn.softmax_cross_entropy_with_logits_v2(logits = logits, labels = int_label))\n",
    "                # task_loss = -tf.reduce_sum(int_label*tf.log(logits))\n",
    "#                 acc = tf.reduce_mean(tf.cast(tf.equal(tf.argmax(softmax_logits, axis=-1), int_label), tf.float32))\n",
    "#                 right_count = tf.reduce_sum(tf.cast(tf.equal(tf.argmax(softmax_logits, axis=1), int_label), tf.int32))\n",
    "    \n",
    "                reg_loss = layers.apply_regularization(layers.l2_regularizer(5e-4),\n",
    "                                                       tf.get_collection(tf.GraphKeys.WEIGHTS))\n",
    "                total_loss = task_loss + reg_loss\n",
    "                \n",
    "                train_var_list = [v for v in tf.trainable_variables() if v.name.find(\"conv\") == -1]\n",
    "\n",
    "#                 train_op = tf.train.GradientDescentOptimizer(self.lr).minimize(\n",
    "#                     total_loss, global_step=self.global_step)\n",
    "#                 train_op = tf.train.MomentumOptimizer(self.lr,0.9).minimize(\n",
    "#                     total_loss, global_step = self.global_step,var_list=train_var_list)\n",
    "                train_op = tf.train.AdamOptimizer(self.lr,0.9).minimize(\n",
    "                    total_loss, global_step = self.global_step,var_list=train_var_list)\n",
    "    \n",
    "                total_para = np.sum([np.prod(v.get_shape().as_list()) for v in tf.trainable_variables()])\n",
    "                print('total_para:', total_para)\n",
    "                \n",
    "                init = tf.global_variables_initializer()\n",
    "                \n",
    "                saver = tf.train.Saver(tf.global_variables())\n",
    "                sess.run(init)\n",
    "#                 saver = tf.train.Saver(tf.trainable_variables())\n",
    "                # saver.restore(sess, tf.train.latest_checkpoint(modelpath))\n",
    "                # saver.restore(sess, modelpath + \"sports1m_finetuning_ucf101.model\")\n",
    "                # print(\"Model Loading Done!\")\n",
    "                step = 0\n",
    "                print_freq = 2\n",
    "                total_batch = int(len(data) / self.batch_size)\n",
    "                for epoch in range(self.epoch):\n",
    "                    epostarttime = time.time()\n",
    "                    starttime = time.time()\n",
    "                    total_cost = 0\n",
    "                    next_start_pos = 0\n",
    "                    for i in tqdm(range(total_batch)):\n",
    "                        step += 1\n",
    "                        train_batch = data[next_start_pos:next_start_pos+self.batch_size] \n",
    "                        label_batch = label[next_start_pos:next_start_pos+self.batch_size] \n",
    "                        next_start_pos += self.batch_size \n",
    "                        assert len(train_batch)==self.batch_size\n",
    "                        val_feed = {self.inputs: train_batch, self.labels: label_batch}\n",
    "#                         sess.run(train_op, val_feed)\n",
    "#                         total_cost += sess.run(total_loss, val_feed)\n",
    "                        print(sess.run(logits, val_feed))\n",
    "\n",
    "                    print('Epoch:',epoch, 'Avg. cost :', total_cost/total_batch)\n",
    "                saver.save(sess, './model/C3D.ckpt')\n",
    "                \n",
    "    def test(self, data, label):\n",
    "        with self.graph.as_default():\n",
    "        \n",
    "            c3d_net = [\n",
    "                [\"conv\", \"conv1\", [3, 3, 3, 3, 64], 'wc1', 'bc1'],\n",
    "                [\"maxpool\", \"pool1\", [1, 1, 2, 2, 1]],\n",
    "                [\"conv\", \"conv2\", [3, 3, 3, 64, 128], 'wc2', 'bc2'],\n",
    "                [\"maxpool\", \"pool2\", [1, 2, 2, 2, 1]],\n",
    "                [\"conv\", \"conv3a\", [3, 3, 3, 128, 256], 'wc3a', 'bc3a'],\n",
    "                [\"conv\", \"conv3b\", [3, 3, 3, 256, 256], 'wc3b', 'bc3b'],\n",
    "                [\"maxpool\", \"pool3\", [1, 2, 2, 2, 1]],\n",
    "                [\"conv\", \"conv4a\", [3, 3, 3, 256, 512], 'wc4a', 'bc4a'],\n",
    "                [\"conv\", \"conv4b\", [3, 3, 3, 512, 512], 'wc4b', 'bc4b'],\n",
    "                [\"maxpool\", \"pool4\", [1, 2, 2, 2, 1]],\n",
    "                [\"conv\", \"conv5a\", [3, 3, 3, 512, 512], 'wc5a', 'bc5a'],\n",
    "                [\"conv\", \"conv5b\", [3, 3, 3, 512, 512], 'wc5b', 'bc5b'],\n",
    "                [\"maxpool\", \"pool5\", [1, 2, 2, 2, 1]],\n",
    "                [\"transpose\", [0, 1, 4, 2, 3]],  #only use it if you restore the sports1m_finetuning_ucf101.model, otherwise uncomment it,(e.g use conv3d_deepnetA_sport1m_iter_1900000_TF.model)\n",
    "                [\"reshape\", [-1, 8192]],\n",
    "                [\"fc\", \"fc1\", [8192, 4096], 'wd1', 'bd1', True],\n",
    "                [\"dropout\", \"dropout1\", self.keep_prob],\n",
    "                [\"fc\", \"fc2\", [4096, 4096],'wd2','bd2', True],\n",
    "                [\"dropout\", \"dropout2\", self.keep_prob],\n",
    "                [\"fc\", \"fc3\", [4096, self.num_class],'wout','bout',False],\n",
    "            ]\n",
    "            with tf.Session() as sess:\n",
    "                logits = self.parseNet(self.inputs, c3d_net)\n",
    "                softmax_logits = tf.nn.softmax(logits)\n",
    "                int_label = self.labels\n",
    "                int_label=tf.cast(int_label,dtype=tf.int64)\n",
    "                task_loss = tf.reduce_sum(tf.nn.softmax_cross_entropy_with_logits_v2(logits = logits, labels = int_label))\n",
    "\n",
    "                reg_loss = layers.apply_regularization(layers.l2_regularizer(5e-4),\n",
    "                                                       tf.get_collection(tf.GraphKeys.WEIGHTS))\n",
    "                total_loss = task_loss + reg_loss\n",
    "\n",
    "                acc = tf.reduce_mean(tf.cast(tf.equal(tf.argmax(softmax_logits, axis=-1), int_label), tf.float32))\n",
    "                right_count = tf.reduce_sum(tf.cast(tf.equal(tf.argmax(softmax_logits, axis=1), int_label), tf.int32))\n",
    "                saver = tf.train.Saver(tf.trainable_variables())\n",
    "\n",
    "                ckpt = tf.train.get_checkpoint_state('./model')\n",
    "                saver.restore(sess, ckpt.model_checkpoint_path)\n",
    "\n",
    "                total_batch = int(len(data) / self.batch_size)\n",
    "                for one_epoch in range(1):\n",
    "                    batch_accuracy = 0\n",
    "                    next_start_pos = 0\n",
    "                    total_correct_num = 0\n",
    "                    for i in tqdm(range(total_batch)):\n",
    "                        test_batch = data[next_start_pos:next_start_pos+self.batch_size] \n",
    "                        label_batch = label[next_start_pos:next_start_pos+self.batch_size] \n",
    "                        next_start_pos += self.batch_size\n",
    "                        assert len(test_batch)==self.batch_size\n",
    "                        val_feed = {self.inputs: test_batch, self.labels: label_batch}\n",
    "                        batch_accuracy += sess.run(acc, val_feed)\n",
    "                        total_correct_num = sess.run(right_count, val_feed)\n",
    "\n",
    "                        print('test_correct_num:', total_correct_num)\n",
    "                    print('Accuracy : ', batch_accuracy/total_batch)\n",
    "                    "
   ]
  },
  {
   "cell_type": "code",
   "execution_count": 32,
   "metadata": {},
   "outputs": [
    {
     "name": "stdout",
     "output_type": "stream",
     "text": [
      "total_para: 69615365\n"
     ]
    },
    {
     "name": "stderr",
     "output_type": "stream",
     "text": [
      "\n",
      "  0%|                                                                                           | 0/15 [00:00<?, ?it/s]"
     ]
    },
    {
     "name": "stdout",
     "output_type": "stream",
     "text": [
      "[[ 0.04451466 -2.2641473  -0.7166265   1.7313299  -1.7653235 ]\n",
      " [-1.2803415  -1.63826     0.28652886  0.6910846  -1.1387368 ]\n",
      " [-0.82389873  1.442528   -1.5046309  -0.47905326  1.5481529 ]\n",
      " [-0.86510324 -1.0310061   0.31368163  0.5014205   1.108545  ]]\n"
     ]
    },
    {
     "name": "stderr",
     "output_type": "stream",
     "text": [
      "\n",
      "  7%|█████▌                                                                             | 1/15 [00:02<00:35,  2.50s/it]"
     ]
    },
    {
     "name": "stdout",
     "output_type": "stream",
     "text": [
      "[[ 2.3580182  -2.7464316   0.65039504 -0.7386687  -0.855338  ]\n",
      " [ 0.7452215   1.6550196   4.462501   -0.02162325 -1.8059801 ]\n",
      " [-1.6223261   0.107449   -1.596922    0.93196803  1.4255412 ]\n",
      " [-0.06776128 -1.4576492  -1.2544165   2.294557   -3.1064517 ]]\n"
     ]
    },
    {
     "name": "stderr",
     "output_type": "stream",
     "text": [
      "\n",
      " 13%|███████████                                                                        | 2/15 [00:04<00:32,  2.50s/it]"
     ]
    },
    {
     "name": "stdout",
     "output_type": "stream",
     "text": [
      "[[ 1.0678976   0.32065928 -1.2477207  -0.07060182 -0.35875514]\n",
      " [-0.57449543 -0.86905867 -0.5890168   1.5077523  -0.47061563]\n",
      " [ 1.0165476  -0.6708467   1.2381474   3.086625   -0.04711223]\n",
      " [-2.3008869  -0.04779357 -1.2811     -0.07848465 -1.1687701 ]]\n"
     ]
    },
    {
     "name": "stderr",
     "output_type": "stream",
     "text": [
      "\n",
      " 20%|████████████████▌                                                                  | 3/15 [00:07<00:29,  2.49s/it]"
     ]
    },
    {
     "name": "stdout",
     "output_type": "stream",
     "text": [
      "[[-1.0211046  -0.5051654  -4.804454    2.1162763   0.29668233]\n",
      " [ 2.0909956  -0.43333834  2.0868216   1.6289465  -3.2536755 ]\n",
      " [ 1.273821    0.4753914   1.5496955   3.8195596   1.6272231 ]\n",
      " [-1.6062635   1.3535047  -0.04461455  1.5991255  -2.178955  ]]\n"
     ]
    },
    {
     "name": "stderr",
     "output_type": "stream",
     "text": [
      "\n",
      " 27%|██████████████████████▏                                                            | 4/15 [00:10<00:27,  2.50s/it]"
     ]
    },
    {
     "name": "stdout",
     "output_type": "stream",
     "text": [
      "[[ 1.2191267   4.4497104   3.3641798   3.337163   -1.7408246 ]\n",
      " [ 1.6328529  -0.9115653   0.264221   -0.33406115  1.6880354 ]\n",
      " [ 0.8329713  -1.524986    2.0305676   1.8397408  -1.7842393 ]\n",
      " [-0.0915941  -0.22740668  2.3922222  -0.7523119  -1.5696214 ]]\n"
     ]
    },
    {
     "name": "stderr",
     "output_type": "stream",
     "text": [
      "\n",
      " 33%|███████████████████████████▋                                                       | 5/15 [00:12<00:25,  2.52s/it]"
     ]
    },
    {
     "name": "stdout",
     "output_type": "stream",
     "text": [
      "[[-1.6892554   2.202363   -1.9495308  -0.19812936  0.25752836]\n",
      " [ 3.2384262  -0.03766215  1.842865   -0.3740834  -3.0947459 ]\n",
      " [ 0.34693706  1.8250028  -0.49979988 -0.8712512  -0.5073765 ]\n",
      " [ 2.9366572   0.36864698  0.4968006   0.11808658  0.22900575]]\n"
     ]
    },
    {
     "name": "stderr",
     "output_type": "stream",
     "text": [
      "\n",
      " 40%|█████████████████████████████████▏                                                 | 6/15 [00:15<00:22,  2.50s/it]"
     ]
    },
    {
     "name": "stdout",
     "output_type": "stream",
     "text": [
      "[[-1.109749    1.1930575   0.6890521  -0.634496    0.4060144 ]\n",
      " [-0.15984625 -2.083887    0.83798444  2.0405002  -4.4888062 ]\n",
      " [-0.46555024  0.85454214 -1.03051     4.292592   -2.5950484 ]\n",
      " [ 0.50174665  2.0695746   2.6911695   2.1620955  -1.2061112 ]]\n"
     ]
    },
    {
     "name": "stderr",
     "output_type": "stream",
     "text": [
      "\n",
      " 47%|██████████████████████████████████████▋                                            | 7/15 [00:17<00:19,  2.48s/it]"
     ]
    },
    {
     "name": "stdout",
     "output_type": "stream",
     "text": [
      "[[-0.15308475 -0.35911644 -0.8174859  -0.55924565 -1.1338619 ]\n",
      " [-1.3437556   0.5866617   1.1817433  -0.58406585 -2.211934  ]\n",
      " [-1.0216163  -0.12130561  1.4961306   0.7938903   0.80106986]\n",
      " [ 0.23966102  1.0852439   0.5160871   2.02544    -1.851407  ]]\n"
     ]
    },
    {
     "name": "stderr",
     "output_type": "stream",
     "text": [
      "\n",
      " 53%|████████████████████████████████████████████▎                                      | 8/15 [00:19<00:17,  2.49s/it]"
     ]
    },
    {
     "name": "stdout",
     "output_type": "stream",
     "text": [
      "[[-3.653611   -0.4464373   0.47298765  0.29980183 -0.24081802]\n",
      " [-1.1046401  -1.1705376  -0.4833212   1.8361557  -2.304111  ]\n",
      " [-1.1965526  -0.707466    1.3884801   1.2556522  -1.694829  ]\n",
      " [ 0.8870384  -1.3528701   0.65565467  0.8836829   1.0545808 ]]\n"
     ]
    },
    {
     "name": "stderr",
     "output_type": "stream",
     "text": [
      "\n",
      " 60%|█████████████████████████████████████████████████▊                                 | 9/15 [00:22<00:14,  2.48s/it]"
     ]
    },
    {
     "name": "stdout",
     "output_type": "stream",
     "text": [
      "[[ 3.8546925e+00 -2.2369156e+00  8.5992754e-02  2.0590405e+00\n",
      "  -8.6933112e-01]\n",
      " [ 4.7930593e+00  2.3892229e+00  1.5232432e-01  4.0932140e+00\n",
      "   6.8011773e-01]\n",
      " [ 3.9137053e-01  9.7661507e-01  2.1468067e+00 -2.4686742e+00\n",
      "   1.5620241e-01]\n",
      " [ 1.6864927e+00 -1.7262250e-03  2.4351501e+00  1.9405670e+00\n",
      "   4.4375658e-02]]\n"
     ]
    },
    {
     "name": "stderr",
     "output_type": "stream",
     "text": [
      "\n",
      " 67%|██████████████████████████████████████████████████████▋                           | 10/15 [00:24<00:12,  2.51s/it]"
     ]
    },
    {
     "name": "stdout",
     "output_type": "stream",
     "text": [
      "[[-0.24899662  0.29924798  3.8972306   4.199436   -2.2890954 ]\n",
      " [-1.1506772   1.3137202  -0.18364263  1.1285554   1.7979016 ]\n",
      " [-3.194253    1.7730179   0.01495361 -0.12149146  2.0211217 ]\n",
      " [-0.91794133  1.6246351  -0.39297885 -0.56266284 -1.8932924 ]]\n"
     ]
    },
    {
     "name": "stderr",
     "output_type": "stream",
     "text": [
      "\n",
      " 73%|████████████████████████████████████████████████████████████▏                     | 11/15 [00:27<00:10,  2.50s/it]"
     ]
    },
    {
     "name": "stdout",
     "output_type": "stream",
     "text": [
      "[[-0.7708719  -5.0549436  -1.6295869   2.8605537  -4.179437  ]\n",
      " [-0.51906765 -6.5338564   4.4639277  -0.13094664 -5.8505087 ]\n",
      " [ 0.53023714 -2.1230536  -0.08308077  0.29397684 -3.352075  ]\n",
      " [ 2.7724185   0.5714636   1.1302601   1.633133   -4.191739  ]]\n"
     ]
    },
    {
     "name": "stderr",
     "output_type": "stream",
     "text": [
      "\n",
      " 80%|█████████████████████████████████████████████████████████████████▌                | 12/15 [00:29<00:07,  2.49s/it]"
     ]
    },
    {
     "name": "stdout",
     "output_type": "stream",
     "text": [
      "[[-1.1039238  -3.359314    5.043054    0.33812982 -4.0017176 ]\n",
      " [ 3.9789033   3.1842923   1.7589831  -0.02061558  0.64878416]\n",
      " [-1.0040295   0.733201   -0.6161674  -0.29763967 -0.957197  ]\n",
      " [ 1.4162787  -0.9743242   1.7797948   0.08588099 -1.1134193 ]]\n"
     ]
    },
    {
     "name": "stderr",
     "output_type": "stream",
     "text": [
      "\n",
      " 87%|███████████████████████████████████████████████████████████████████████           | 13/15 [00:32<00:05,  2.51s/it]"
     ]
    },
    {
     "name": "stdout",
     "output_type": "stream",
     "text": [
      "[[-1.1984136  -0.8406657   1.2468771   3.3937752   1.8880279 ]\n",
      " [ 1.3639376  -2.5816581  -0.88379     2.888878    0.13748169]\n",
      " [ 0.13794321  1.9159567  -0.44164824  0.57511806 -0.9540408 ]\n",
      " [ 1.2850394   1.2463213   1.2308145   0.9876325  -0.76592755]]\n"
     ]
    },
    {
     "name": "stderr",
     "output_type": "stream",
     "text": [
      "\n",
      " 93%|████████████████████████████████████████████████████████████████████████████▌     | 14/15 [00:35<00:02,  2.51s/it]"
     ]
    },
    {
     "name": "stdout",
     "output_type": "stream",
     "text": [
      "[[-1.2085528   0.43428946  3.021819    1.2282794  -1.5338802 ]\n",
      " [ 3.822057    2.20576     2.8551397   0.13504136 -2.7981303 ]\n",
      " [-0.6868712   0.56071156  1.3396482   0.97889173  0.9246199 ]\n",
      " [ 0.7311597   0.31217098 -0.42512363  2.202268    1.7069718 ]]\n"
     ]
    },
    {
     "name": "stderr",
     "output_type": "stream",
     "text": [
      "\n",
      "100%|██████████████████████████████████████████████████████████████████████████████████| 15/15 [00:37<00:00,  2.53s/it]\n"
     ]
    },
    {
     "name": "stdout",
     "output_type": "stream",
     "text": [
      "Epoch: 0 Avg. cost : 0.0\n"
     ]
    },
    {
     "name": "stderr",
     "output_type": "stream",
     "text": [
      "\n",
      "  0%|                                                                                           | 0/15 [00:00<?, ?it/s]"
     ]
    },
    {
     "name": "stdout",
     "output_type": "stream",
     "text": [
      "[[-1.5992992  -1.708422    0.74218583  0.4765141  -1.1278799 ]\n",
      " [-0.3106047   1.200553    1.0325015  -0.5468817  -1.999356  ]\n",
      " [-0.18884432 -0.6701331  -1.6046612  -0.5845638   1.2144074 ]\n",
      " [-0.02711451 -0.6639046   0.8849927   0.44720632 -0.24713576]]\n"
     ]
    },
    {
     "name": "stderr",
     "output_type": "stream",
     "text": [
      "\n",
      "  7%|█████▌                                                                             | 1/15 [00:02<00:35,  2.50s/it]"
     ]
    },
    {
     "name": "stdout",
     "output_type": "stream",
     "text": [
      "[[ 1.0873013   4.1684155   4.2770576   4.7816377  -0.872364  ]\n",
      " [ 0.01052779 -3.9075933   4.1686316   0.05412579 -2.1677492 ]\n",
      " [-1.0155551  -0.64843607 -1.3395002  -1.6733516  -2.374753  ]\n",
      " [ 2.0701365   1.2640939   3.787057   -1.499749    1.2052994 ]]\n"
     ]
    },
    {
     "name": "stderr",
     "output_type": "stream",
     "text": [
      "\n",
      " 13%|███████████                                                                        | 2/15 [00:05<00:32,  2.50s/it]"
     ]
    },
    {
     "name": "stdout",
     "output_type": "stream",
     "text": [
      "[[ 0.5261023  -2.7385564   0.3525269   2.5007005   2.3048234 ]\n",
      " [ 0.48023897  0.03816319  1.1469929   1.6172364   1.572606  ]\n",
      " [-0.4174816  -1.4420017  -0.8192705   0.352922   -0.47014624]\n",
      " [-0.28917384  0.36071172  1.8221395   0.18755114  0.45924854]]\n"
     ]
    },
    {
     "name": "stderr",
     "output_type": "stream",
     "text": [
      "\n",
      " 20%|████████████████▌                                                                  | 3/15 [00:07<00:29,  2.50s/it]"
     ]
    },
    {
     "name": "stdout",
     "output_type": "stream",
     "text": [
      "[[-0.8411901  -3.1258442   1.9414308   0.09530699  4.8406105 ]\n",
      " [ 0.16443068 -2.2679617   1.8950708  -2.3586497  -1.4869221 ]\n",
      " [ 1.1361715  -1.3164465   2.7158337  -2.121265   -1.4145713 ]\n",
      " [ 0.2562713  -2.7128053   2.7941918  -2.073905    0.63354695]]\n"
     ]
    },
    {
     "name": "stderr",
     "output_type": "stream",
     "text": [
      "\n",
      " 27%|██████████████████████▏                                                            | 4/15 [00:10<00:27,  2.51s/it]"
     ]
    },
    {
     "name": "stdout",
     "output_type": "stream",
     "text": [
      "[[ 0.07235885 -2.3850703   2.0955882   1.8856853   2.6514049 ]\n",
      " [ 0.9471909   0.9446523   4.1138573   0.09465063  0.52161777]\n",
      " [ 1.2056456  -1.3280185   1.3753272   1.8637974   1.1032867 ]\n",
      " [-0.8674951  -0.47449312  1.9567273  -1.058157   -0.7840143 ]]\n"
     ]
    },
    {
     "name": "stderr",
     "output_type": "stream",
     "text": [
      "\n",
      " 33%|███████████████████████████▋                                                       | 5/15 [00:12<00:25,  2.52s/it]"
     ]
    },
    {
     "name": "stdout",
     "output_type": "stream",
     "text": [
      "[[-2.6657746   1.6424432  -0.88356745 -0.471228   -0.5273224 ]\n",
      " [ 0.95365256  2.1763432   2.5038333   2.2525744  -0.78708947]\n",
      " [-0.38091552  1.1594185  -1.6660745   2.5100517  -1.8598001 ]\n",
      " [-1.350383    1.966327    0.32664675  0.8040696  -0.677405  ]]\n"
     ]
    },
    {
     "name": "stderr",
     "output_type": "stream",
     "text": [
      "\n",
      " 40%|█████████████████████████████████▏                                                 | 6/15 [00:15<00:22,  2.53s/it]"
     ]
    },
    {
     "name": "stdout",
     "output_type": "stream",
     "text": [
      "[[ 1.3553287   0.34845793 -1.5080779   1.8135388  -1.0700074 ]\n",
      " [-0.09201086  0.49194157  2.2017078   1.0861316  -2.3010538 ]\n",
      " [ 1.6845281  -0.381324    1.3935419   0.38052893 -1.6272607 ]\n",
      " [ 0.8562506  -0.535253    2.5358202   0.5191747   0.14069846]]\n"
     ]
    },
    {
     "name": "stderr",
     "output_type": "stream",
     "text": [
      "\n",
      " 47%|██████████████████████████████████████▋                                            | 7/15 [00:17<00:20,  2.51s/it]"
     ]
    },
    {
     "name": "stdout",
     "output_type": "stream",
     "text": [
      "[[ 2.1529307   0.83010685 -1.8721194  -0.02974367  0.28574204]\n",
      " [-1.4680178  -1.9118311  -0.34221178  1.3334768  -1.9539292 ]\n",
      " [-0.20008385 -1.62286    -0.27606612  0.4625981  -0.5616173 ]\n",
      " [ 0.9235527   0.50812227  0.8582706   0.25941026 -2.1005166 ]]\n"
     ]
    },
    {
     "name": "stderr",
     "output_type": "stream",
     "text": [
      "\n",
      " 53%|████████████████████████████████████████████▎                                      | 8/15 [00:20<00:17,  2.50s/it]"
     ]
    },
    {
     "name": "stdout",
     "output_type": "stream",
     "text": [
      "[[-0.24125099 -3.002711    1.261204    3.2773318  -1.5793153 ]\n",
      " [ 0.09204638  1.5283107   3.7496455  -0.02335653 -0.1932792 ]\n",
      " [ 0.3805806   0.5326059   1.4053814  -0.23912048  0.9726585 ]\n",
      " [ 0.53351355 -0.09390801  0.6918231  -0.02606973 -0.21119925]]\n"
     ]
    },
    {
     "name": "stderr",
     "output_type": "stream",
     "text": [
      "\n",
      " 60%|█████████████████████████████████████████████████▊                                 | 9/15 [00:22<00:15,  2.52s/it]"
     ]
    },
    {
     "name": "stdout",
     "output_type": "stream",
     "text": [
      "[[-1.4557014  -3.2182689   3.5502744   4.3042927  -3.1545138 ]\n",
      " [ 1.1619732  -1.8628955  -0.7214953   0.38730252  1.5733674 ]\n",
      " [-0.20963392  0.22889352  1.04822     1.837889   -3.7009172 ]\n",
      " [-3.2045436  -1.6698966   0.20348519 -3.2150102  -0.2977407 ]]\n"
     ]
    },
    {
     "name": "stderr",
     "output_type": "stream",
     "text": [
      "\n",
      " 67%|██████████████████████████████████████████████████████▋                           | 10/15 [00:25<00:12,  2.54s/it]"
     ]
    },
    {
     "name": "stdout",
     "output_type": "stream",
     "text": [
      "[[ 1.5017003   2.0936048  -0.29050064  0.6248884   0.20142138]\n",
      " [ 2.3311527   3.8530374   0.02895021  0.06110173 -1.361629  ]\n",
      " [ 1.8181479   0.7821274  -2.7180462  -1.0478357   0.8056388 ]\n",
      " [ 1.3250203   0.4234313  -1.7307944   0.51944214 -0.88696855]]\n"
     ]
    },
    {
     "name": "stderr",
     "output_type": "stream",
     "text": [
      "\n",
      " 73%|████████████████████████████████████████████████████████████▏                     | 11/15 [00:27<00:10,  2.56s/it]"
     ]
    },
    {
     "name": "stdout",
     "output_type": "stream",
     "text": [
      "[[-4.5100555  -2.9014277   0.3838476  -0.8862427  -1.9488231 ]\n",
      " [-1.8762652   0.877095    2.2645984  -0.3712935   2.8327787 ]\n",
      " [ 2.414337   -2.1996188   1.3355236   0.96193266 -1.3438956 ]\n",
      " [-0.83913076 -1.1408317  -1.7441202   1.0112339   1.0657374 ]]\n"
     ]
    },
    {
     "name": "stderr",
     "output_type": "stream",
     "text": [
      "\n",
      " 80%|█████████████████████████████████████████████████████████████████▌                | 12/15 [00:30<00:07,  2.58s/it]"
     ]
    },
    {
     "name": "stdout",
     "output_type": "stream",
     "text": [
      "[[-1.2493856   0.41123796  3.493656    1.3750762  -2.3898206 ]\n",
      " [ 1.1262306  -1.475253    1.9941134  -0.9538324  -2.8862824 ]\n",
      " [-0.38540602 -0.7105396   1.2187797   3.3183107   0.26300716]\n",
      " [-0.5290594  -1.4766178   1.2380852  -0.6957507  -1.0271411 ]]\n"
     ]
    },
    {
     "name": "stderr",
     "output_type": "stream",
     "text": [
      "\n",
      " 87%|███████████████████████████████████████████████████████████████████████           | 13/15 [00:33<00:05,  2.59s/it]"
     ]
    },
    {
     "name": "stdout",
     "output_type": "stream",
     "text": [
      "[[-4.118333   -4.8171463   3.333343    2.682584   -3.0033128 ]\n",
      " [-0.17493355  0.4522873   1.7934601   3.4045477  -1.9036136 ]\n",
      " [-2.3187573  -1.8408072   0.4008361   2.2887926  -1.3434168 ]\n",
      " [ 0.04063973 -0.5253007   1.2899997  -0.95044225 -3.2965617 ]]\n"
     ]
    },
    {
     "name": "stderr",
     "output_type": "stream",
     "text": [
      "\n",
      " 93%|████████████████████████████████████████████████████████████████████████████▌     | 14/15 [00:35<00:02,  2.59s/it]"
     ]
    },
    {
     "name": "stdout",
     "output_type": "stream",
     "text": [
      "[[ 0.4973035   0.9485384   1.25949     1.0052712  -0.97227395]\n",
      " [ 2.2405958  -0.1975019   1.8551314   3.5804634  -2.6784754 ]\n",
      " [-0.8977889  -0.4847153   0.1758318  -0.8610655   0.8987471 ]\n",
      " [-0.12941658  1.7005446  -0.42315513  0.67645663 -1.7918146 ]]\n"
     ]
    },
    {
     "name": "stderr",
     "output_type": "stream",
     "text": [
      "\n",
      "100%|██████████████████████████████████████████████████████████████████████████████████| 15/15 [00:38<00:00,  2.59s/it]\n"
     ]
    },
    {
     "name": "stdout",
     "output_type": "stream",
     "text": [
      "Epoch: 1 Avg. cost : 0.0\n"
     ]
    },
    {
     "name": "stderr",
     "output_type": "stream",
     "text": [
      "\n",
      "  0%|                                                                                           | 0/15 [00:00<?, ?it/s]"
     ]
    },
    {
     "name": "stdout",
     "output_type": "stream",
     "text": [
      "[[ 0.18385315  0.4121923   0.31718796 -2.2105658   0.6217951 ]\n",
      " [-2.5890183  -1.5165968  -3.2320879  -0.22163385 -1.6692121 ]\n",
      " [-0.92530036  1.1992617  -2.2507424   1.9493216   0.29870716]\n",
      " [ 0.9986805   1.5155884   0.92259747 -0.95985806 -2.2258067 ]]\n"
     ]
    },
    {
     "name": "stderr",
     "output_type": "stream",
     "text": [
      "\n",
      "  7%|█████▌                                                                             | 1/15 [00:02<00:34,  2.50s/it]"
     ]
    },
    {
     "name": "stdout",
     "output_type": "stream",
     "text": [
      "[[ 2.0938244   0.9212587   0.8596275   5.724475   -6.3220377 ]\n",
      " [ 1.3681171   1.4633317   2.2170513   1.6871929  -1.1376873 ]\n",
      " [-0.81194305 -0.28458714  0.40521228 -0.02968621 -1.3367082 ]\n",
      " [-0.41434956 -0.290354   -0.2629323   1.6350608  -0.7094556 ]]\n"
     ]
    },
    {
     "name": "stderr",
     "output_type": "stream",
     "text": [
      "\n",
      " 13%|███████████                                                                        | 2/15 [00:05<00:32,  2.51s/it]"
     ]
    },
    {
     "name": "stdout",
     "output_type": "stream",
     "text": [
      "[[-0.24736595 -1.0789154  -1.0475943  -0.21141684  0.40992683]\n",
      " [-0.02993208  0.2485553   0.15517986  1.9414122  -1.2832255 ]\n",
      " [-1.2377899   0.5090897  -1.3760307   1.181366   -0.96609485]\n",
      " [-2.8142166   0.8438861  -0.03799894  0.59738797 -0.8085478 ]]\n"
     ]
    },
    {
     "name": "stderr",
     "output_type": "stream",
     "text": [
      "\n",
      " 20%|████████████████▌                                                                  | 3/15 [00:07<00:30,  2.50s/it]"
     ]
    },
    {
     "name": "stdout",
     "output_type": "stream",
     "text": [
      "[[ 0.1854546  -2.338118    6.423449    0.3953848  -0.96307594]\n",
      " [-0.6000023   2.3857474  -0.7598783   2.6279287  -4.927532  ]\n",
      " [ 1.818347    1.449691    1.4465723   2.9152284  -1.4018192 ]\n",
      " [ 4.0223274  -1.7874031   4.3826313  -0.53293717 -0.93756175]]\n"
     ]
    },
    {
     "name": "stderr",
     "output_type": "stream",
     "text": [
      "\n",
      " 27%|██████████████████████▏                                                            | 4/15 [00:10<00:27,  2.52s/it]"
     ]
    },
    {
     "name": "stdout",
     "output_type": "stream",
     "text": [
      "[[-1.548976   -1.2561798  -1.593219    2.8271878  -1.9193825 ]\n",
      " [-0.06870055  3.130314    0.8837806   1.5730222  -5.8211355 ]\n",
      " [ 1.0857913   0.43178558  2.516272    0.03167465 -0.39012736]\n",
      " [-1.708323    0.5282757   1.7569679  -1.6491466   0.31966498]]\n"
     ]
    },
    {
     "name": "stderr",
     "output_type": "stream",
     "text": [
      "\n",
      " 33%|███████████████████████████▋                                                       | 5/15 [00:12<00:25,  2.51s/it]"
     ]
    },
    {
     "name": "stdout",
     "output_type": "stream",
     "text": [
      "[[ 0.04558396 -1.490071   -0.81580865  6.8885546  -1.6156318 ]\n",
      " [-0.9989028   0.9364061   0.701687    1.1614697   0.09763908]\n",
      " [ 2.6883593   0.3797443   3.650311    2.1905818  -2.0559108 ]\n",
      " [ 0.519146   -0.7240697   0.43367106  1.7478518  -1.2281116 ]]\n"
     ]
    },
    {
     "name": "stderr",
     "output_type": "stream",
     "text": [
      "\n",
      " 40%|█████████████████████████████████▏                                                 | 6/15 [00:15<00:22,  2.51s/it]"
     ]
    },
    {
     "name": "stdout",
     "output_type": "stream",
     "text": [
      "[[ 0.32248944 -0.70196223 -0.376423   -1.7316984   1.8137312 ]\n",
      " [ 1.6822491  -0.5678487   1.1335757   1.6197395  -0.3162015 ]\n",
      " [-0.16539025  0.25628695  1.4011886   3.628917   -0.699025  ]\n",
      " [ 0.5077403  -3.2155404   1.4507122   1.3634903   0.3574015 ]]\n"
     ]
    },
    {
     "name": "stderr",
     "output_type": "stream",
     "text": [
      "\n",
      " 47%|██████████████████████████████████████▋                                            | 7/15 [00:17<00:20,  2.51s/it]"
     ]
    },
    {
     "name": "stdout",
     "output_type": "stream",
     "text": [
      "[[ 0.332667   -1.7665687   0.33215594  1.437239    0.51837873]\n",
      " [-1.2487504  -0.7991267  -0.79993093 -1.067285    0.18065429]\n",
      " [-0.93132335 -0.12166476 -0.2121917  -0.49128675 -0.9304079 ]\n",
      " [ 1.4860883  -0.80305076  1.4068143   0.6507701   0.23928687]]\n"
     ]
    },
    {
     "name": "stderr",
     "output_type": "stream",
     "text": [
      "\n",
      " 53%|████████████████████████████████████████████▎                                      | 8/15 [00:20<00:17,  2.52s/it]"
     ]
    },
    {
     "name": "stdout",
     "output_type": "stream",
     "text": [
      "[[-0.9525837  -2.568131    1.1201351   1.8338841   1.1316202 ]\n",
      " [-1.3006767   0.11640447  2.4886613   2.7373362  -1.2578638 ]\n",
      " [-0.7516483  -0.8317068   0.6918294   0.7713386  -0.41110253]\n",
      " [-0.64370024  0.8371244   1.4662617  -0.27929145 -2.384563  ]]\n"
     ]
    },
    {
     "name": "stderr",
     "output_type": "stream",
     "text": [
      "\n",
      " 60%|█████████████████████████████████████████████████▊                                 | 9/15 [00:22<00:15,  2.53s/it]"
     ]
    },
    {
     "name": "stdout",
     "output_type": "stream",
     "text": [
      "[[ 1.2090743  -0.05357122  1.1744623   2.4426806   1.1443933 ]\n",
      " [ 0.38214695  2.917799    2.0737095   1.0868673  -1.2060852 ]\n",
      " [ 1.0659429   0.52940905  3.8669958  -0.54261214 -0.43181637]\n",
      " [-3.5089233  -0.8229898   2.531356    0.04869229  0.60094213]]\n"
     ]
    },
    {
     "name": "stderr",
     "output_type": "stream",
     "text": [
      "\n",
      " 67%|██████████████████████████████████████████████████████▋                           | 10/15 [00:25<00:12,  2.53s/it]"
     ]
    },
    {
     "name": "stdout",
     "output_type": "stream",
     "text": [
      "[[-3.336545    1.9319783  -2.3403146  -1.078211   -0.76638526]\n",
      " [ 0.9225311   2.3959045   2.24416     1.5687306  -1.653007  ]\n",
      " [-1.8297628   0.6673769  -4.25665     2.0155752  -1.5569801 ]\n",
      " [ 2.3496332   1.7213893   1.6093667  -2.1706479   0.9585867 ]]\n"
     ]
    },
    {
     "name": "stderr",
     "output_type": "stream",
     "text": [
      "\n",
      " 73%|████████████████████████████████████████████████████████████▏                     | 11/15 [00:27<00:10,  2.52s/it]"
     ]
    },
    {
     "name": "stdout",
     "output_type": "stream",
     "text": [
      "[[ 1.7420167   0.8949435  -2.264203    3.0120044   0.15742242]\n",
      " [-0.5386729  -0.13539052  0.59215164  1.1900275  -3.3324482 ]\n",
      " [-0.08668296 -0.210935    0.8770445   0.6513101   0.07327873]\n",
      " [ 0.0455606  -1.4134877   0.38461298  3.0811317   0.3474845 ]]\n"
     ]
    },
    {
     "name": "stderr",
     "output_type": "stream",
     "text": [
      "\n",
      " 80%|█████████████████████████████████████████████████████████████████▌                | 12/15 [00:30<00:07,  2.52s/it]"
     ]
    },
    {
     "name": "stdout",
     "output_type": "stream",
     "text": [
      "[[-2.7222862  -2.9673843   0.3433358  -3.5806644   4.1948814 ]\n",
      " [ 2.6394145  -1.1524129  -0.76763105  1.0201051   1.4511514 ]\n",
      " [ 0.37738746 -1.2921605  -1.1651821   0.6952152  -0.3589889 ]\n",
      " [-0.33569407 -0.14624482  1.3069069  -2.1525915  -1.4923806 ]]\n"
     ]
    },
    {
     "name": "stderr",
     "output_type": "stream",
     "text": [
      "\n",
      " 87%|███████████████████████████████████████████████████████████████████████           | 13/15 [00:32<00:05,  2.54s/it]"
     ]
    },
    {
     "name": "stdout",
     "output_type": "stream",
     "text": [
      "[[ 2.7103262  -2.1964035  -0.12809205  2.6914933  -2.097263  ]\n",
      " [ 1.2292721  -1.3384061   2.332649   -0.41863883 -1.8994179 ]\n",
      " [-0.9042535  -0.50495136  1.2701315  -0.58011377 -0.8321707 ]\n",
      " [ 1.6764313  -1.9860625   0.82097495  1.1876304  -1.3861587 ]]\n"
     ]
    },
    {
     "name": "stderr",
     "output_type": "stream",
     "text": [
      "\n",
      " 93%|████████████████████████████████████████████████████████████████████████████▌     | 14/15 [00:35<00:02,  2.57s/it]"
     ]
    },
    {
     "name": "stdout",
     "output_type": "stream",
     "text": [
      "[[ 2.0150888  -1.4984412   1.498896    0.49460977  4.425603  ]\n",
      " [ 0.5732713   0.98945016  1.5401881  -0.8963492  -2.2622669 ]\n",
      " [ 1.3731744   1.9913437   0.87273073  3.4779367  -0.295905  ]\n",
      " [ 0.8134563   0.5028093   0.61942434 -0.48662144 -2.0863166 ]]\n"
     ]
    },
    {
     "name": "stderr",
     "output_type": "stream",
     "text": [
      "\n",
      "100%|██████████████████████████████████████████████████████████████████████████████████| 15/15 [00:38<00:00,  2.58s/it]\n"
     ]
    },
    {
     "name": "stdout",
     "output_type": "stream",
     "text": [
      "Epoch: 2 Avg. cost : 0.0\n"
     ]
    },
    {
     "name": "stderr",
     "output_type": "stream",
     "text": [
      "\n",
      "  0%|                                                                                           | 0/15 [00:00<?, ?it/s]"
     ]
    },
    {
     "name": "stdout",
     "output_type": "stream",
     "text": [
      "[[ 0.0376364  -1.5541329  -0.5492061   0.09813827 -0.48444757]\n",
      " [-0.04521781 -1.8827325  -1.0281377   0.5039436  -2.786063  ]\n",
      " [ 0.8551674  -1.168138   -1.2645162   2.9927487  -0.7693287 ]\n",
      " [-1.3414053   0.43399462  0.8338499  -0.56769305 -1.728256  ]]\n"
     ]
    },
    {
     "name": "stderr",
     "output_type": "stream",
     "text": [
      "\n",
      "  7%|█████▌                                                                             | 1/15 [00:02<00:36,  2.61s/it]"
     ]
    },
    {
     "name": "stdout",
     "output_type": "stream",
     "text": [
      "[[-1.0364096   0.20869285 -0.22403836  3.3939722  -1.4030378 ]\n",
      " [ 1.011493   -1.627546   -0.9445987  -1.6370447  -2.2772524 ]\n",
      " [-3.867397   -0.00620627  2.2443037   4.418148    1.3412242 ]\n",
      " [-1.5931845  -3.081925    2.6806476  -1.3479383  -0.6921884 ]]\n"
     ]
    },
    {
     "name": "stderr",
     "output_type": "stream",
     "text": [
      "\n",
      " 13%|███████████                                                                        | 2/15 [00:05<00:33,  2.58s/it]"
     ]
    },
    {
     "name": "stdout",
     "output_type": "stream",
     "text": [
      "[[-0.3631425  -1.3934958  -2.1713572   1.791851   -0.88705385]\n",
      " [ 4.3868375  -1.5809606  -1.7448945  -0.13144499  1.7315232 ]\n",
      " [ 1.2843804  -0.8270056  -1.9509335   0.77852035  0.6457267 ]\n",
      " [-0.7443125  -1.2607559   2.231654   -1.538538    0.3246891 ]]\n"
     ]
    },
    {
     "name": "stderr",
     "output_type": "stream",
     "text": [
      "\n",
      " 20%|████████████████▌                                                                  | 3/15 [00:07<00:30,  2.56s/it]"
     ]
    },
    {
     "name": "stdout",
     "output_type": "stream",
     "text": [
      "[[ 0.82277215 -2.3228178   0.24392512  1.1060225  -2.4995928 ]\n",
      " [-1.3876663  -3.1634219   2.3837574  -0.75249445 -1.7873919 ]\n",
      " [ 0.5085312   1.8033499   3.2380102   1.1216719   1.5330691 ]\n",
      " [ 0.14253843 -1.3169129  -0.02612829 -1.1732683  -3.9140177 ]]\n"
     ]
    },
    {
     "name": "stderr",
     "output_type": "stream",
     "text": [
      "\n",
      " 27%|██████████████████████▏                                                            | 4/15 [00:10<00:27,  2.54s/it]"
     ]
    },
    {
     "name": "stdout",
     "output_type": "stream",
     "text": [
      "[[ 4.3717895   0.69852245 -1.9787518   3.3898182  -1.3876932 ]\n",
      " [ 2.5241604  -4.921092   -0.16940862  3.538076   -1.6509928 ]\n",
      " [-0.5660919  -1.5121107   1.6720674   0.21999371 -0.8244981 ]\n",
      " [ 1.3394091   2.1046097   2.6067915   0.1979121  -0.2279171 ]]\n"
     ]
    },
    {
     "name": "stderr",
     "output_type": "stream",
     "text": [
      "\n",
      " 33%|███████████████████████████▋                                                       | 5/15 [00:12<00:25,  2.53s/it]"
     ]
    },
    {
     "name": "stdout",
     "output_type": "stream",
     "text": [
      "[[-0.5995904  -0.23132062 -0.62850875  1.5535127  -0.7252952 ]\n",
      " [-1.3304335   0.15501761  2.7216697   2.989139   -2.618898  ]\n",
      " [-1.2451863   0.95633763 -1.2791289   4.925494   -0.44266403]\n",
      " [-0.66861594  1.7619468  -0.5023006   2.495805    1.5866156 ]]\n"
     ]
    },
    {
     "name": "stderr",
     "output_type": "stream",
     "text": [
      "\n",
      " 40%|█████████████████████████████████▏                                                 | 6/15 [00:15<00:22,  2.52s/it]"
     ]
    },
    {
     "name": "stdout",
     "output_type": "stream",
     "text": [
      "[[ 0.16831112 -0.48667634  0.4624106   1.8413697  -1.392057  ]\n",
      " [-0.20681679 -0.3801009   1.9274683   1.7514488  -1.1992391 ]\n",
      " [ 0.9579468  -0.47787464  1.1933777   3.1672182   0.06349158]\n",
      " [ 1.3144019   2.4566596   0.18762532 -1.6187103   0.3033281 ]]\n"
     ]
    },
    {
     "name": "stderr",
     "output_type": "stream",
     "text": [
      "\n",
      " 47%|██████████████████████████████████████▋                                            | 7/15 [00:17<00:20,  2.51s/it]"
     ]
    },
    {
     "name": "stdout",
     "output_type": "stream",
     "text": [
      "[[-1.5564796  -0.31468582  0.38522568  0.4497553  -1.0762582 ]\n",
      " [-1.1922295   0.17720437  1.0970294   0.8365694   0.47635633]\n",
      " [-0.6640932   0.01089859  2.921897   -0.60827255  0.65676284]\n",
      " [ 1.2264555  -1.5972197   1.1371565   0.09474915 -2.4422615 ]]\n"
     ]
    },
    {
     "name": "stderr",
     "output_type": "stream",
     "text": [
      "\n",
      " 53%|████████████████████████████████████████████▎                                      | 8/15 [00:20<00:17,  2.50s/it]"
     ]
    },
    {
     "name": "stdout",
     "output_type": "stream",
     "text": [
      "[[ 0.33966693 -1.1499456   1.2095848   0.32485572  0.17029172]\n",
      " [-1.6238735   0.44656324  2.3385782   0.9803839  -0.03953379]\n",
      " [-0.21790841 -1.322372    0.7376212   0.6288468   1.033925  ]\n",
      " [-0.39286286 -0.9999651   0.8009685  -0.203042   -0.8092882 ]]\n"
     ]
    },
    {
     "name": "stderr",
     "output_type": "stream",
     "text": [
      "\n",
      " 60%|█████████████████████████████████████████████████▊                                 | 9/15 [00:22<00:15,  2.51s/it]"
     ]
    },
    {
     "name": "stdout",
     "output_type": "stream",
     "text": [
      "[[ 1.2287922  -3.1300974  -0.15927196  0.7973122  -1.9984052 ]\n",
      " [-0.55259824 -1.7537086   1.0388638   1.9923277  -2.6727796 ]\n",
      " [-0.20557451 -0.89692724 -1.6582918   3.6388435  -3.095688  ]\n",
      " [ 0.25836164 -1.4190238   4.652608    0.35877657 -9.246894  ]]\n"
     ]
    },
    {
     "name": "stderr",
     "output_type": "stream",
     "text": [
      "\n",
      " 67%|██████████████████████████████████████████████████████▋                           | 10/15 [00:25<00:12,  2.50s/it]"
     ]
    },
    {
     "name": "stdout",
     "output_type": "stream",
     "text": [
      "[[-0.63995886  1.3673998   0.57422984  3.3881567  -0.42520452]\n",
      " [ 0.00944036 -1.1025958   0.49110675  1.6004025  -1.026643  ]\n",
      " [-1.5314323   0.538067   -0.2806471  -0.47066557  1.0209851 ]\n",
      " [ 1.2302256   1.2153219   0.8968168   2.630729   -1.1252182 ]]\n"
     ]
    },
    {
     "name": "stderr",
     "output_type": "stream",
     "text": [
      "\n",
      " 73%|████████████████████████████████████████████████████████████▏                     | 11/15 [00:27<00:10,  2.51s/it]"
     ]
    },
    {
     "name": "stdout",
     "output_type": "stream",
     "text": [
      "[[ 0.16530788  0.65607405  2.58136    -0.09017038  1.4973757 ]\n",
      " [ 1.5524802  -0.6050642   1.1667564   2.538004   -3.0793676 ]\n",
      " [ 0.20656505 -1.6180916   1.6368014   2.440776    0.33961457]\n",
      " [ 0.14901727  0.5225663   1.439677   -0.5495348  -3.258408  ]]\n"
     ]
    },
    {
     "name": "stderr",
     "output_type": "stream",
     "text": [
      "\n",
      " 80%|█████████████████████████████████████████████████████████████████▌                | 12/15 [00:30<00:07,  2.53s/it]"
     ]
    },
    {
     "name": "stdout",
     "output_type": "stream",
     "text": [
      "[[-0.22624308 -0.16207373  4.1929545   4.605936    1.4196125 ]\n",
      " [-2.4630594  -2.217438    3.7394705   0.8445347  -1.5348897 ]\n",
      " [-1.4198472  -1.174283    0.8055931   0.9650297   0.5173682 ]\n",
      " [-0.88443184  0.9307854  -0.06971377  0.3430546  -3.6662164 ]]\n"
     ]
    },
    {
     "name": "stderr",
     "output_type": "stream",
     "text": [
      "\n",
      " 87%|███████████████████████████████████████████████████████████████████████           | 13/15 [00:32<00:05,  2.52s/it]"
     ]
    },
    {
     "name": "stdout",
     "output_type": "stream",
     "text": [
      "[[ 2.6397786  -0.21203166  2.8566523   3.983005   -3.1346397 ]\n",
      " [-0.98602796  4.3749804   1.3339593   0.91185665  0.471995  ]\n",
      " [-3.5182443   0.9226403   2.0232296   2.019501   -1.701138  ]\n",
      " [ 3.3306022  -1.6584468  -1.0547998  -1.8644968   0.15706572]]\n"
     ]
    },
    {
     "name": "stderr",
     "output_type": "stream",
     "text": [
      "\n",
      " 93%|████████████████████████████████████████████████████████████████████████████▌     | 14/15 [00:35<00:02,  2.52s/it]"
     ]
    },
    {
     "name": "stdout",
     "output_type": "stream",
     "text": [
      "[[-2.4042783  -1.3921236  -2.0511363  -2.8452911   0.4448195 ]\n",
      " [-1.3191344   3.747165    1.6299204  -0.5369159  -2.4737701 ]\n",
      " [ 0.7531814   0.5965487   0.7446204   2.0517485   0.16835123]\n",
      " [-0.50394446  1.4063337   1.6908504   2.8976698  -1.6465814 ]]\n"
     ]
    },
    {
     "name": "stderr",
     "output_type": "stream",
     "text": [
      "\n",
      "100%|██████████████████████████████████████████████████████████████████████████████████| 15/15 [00:37<00:00,  2.53s/it]\n"
     ]
    },
    {
     "name": "stdout",
     "output_type": "stream",
     "text": [
      "Epoch: 3 Avg. cost : 0.0\n"
     ]
    },
    {
     "name": "stderr",
     "output_type": "stream",
     "text": [
      "\n",
      "  0%|                                                                                           | 0/15 [00:00<?, ?it/s]"
     ]
    },
    {
     "name": "stdout",
     "output_type": "stream",
     "text": [
      "[[ 0.31310022  0.88573956 -0.74908894  0.7721715  -0.55620927]\n",
      " [-1.9420379   0.02376068 -0.51788545  2.4776917  -1.8308767 ]\n",
      " [-0.2566136   0.83228606 -2.0217586  -1.1829208  -0.47943118]\n",
      " [ 0.79588294  0.5210818   0.06243238  0.67712283 -0.9080125 ]]\n"
     ]
    },
    {
     "name": "stderr",
     "output_type": "stream",
     "text": [
      "\n",
      "  7%|█████▌                                                                             | 1/15 [00:02<00:35,  2.53s/it]"
     ]
    },
    {
     "name": "stdout",
     "output_type": "stream",
     "text": [
      "[[ 1.1754177   1.056083    1.1305544   2.4069538  -5.010657  ]\n",
      " [ 0.11241508 -6.665848    4.822873    0.74280566 -2.8177874 ]\n",
      " [ 0.07834926 -1.3223429  -0.8841301   0.7427128  -0.2444454 ]\n",
      " [-2.6508346  -2.6150777   3.1591403   3.0488524  -2.9290333 ]]\n"
     ]
    },
    {
     "name": "stderr",
     "output_type": "stream",
     "text": [
      "\n",
      " 13%|███████████                                                                        | 2/15 [00:05<00:32,  2.53s/it]"
     ]
    },
    {
     "name": "stdout",
     "output_type": "stream",
     "text": [
      "[[ 0.44447708  2.2169874  -1.7790567  -0.19311106 -0.49539202]\n",
      " [ 0.916594    0.21638551  0.27471542  0.49092376 -1.8650975 ]\n",
      " [ 0.19089675 -1.3231654   0.21116096  1.1490376   0.08372152]\n",
      " [ 0.27713805  0.50462085  0.13815147 -1.9466664  -2.4781191 ]]\n"
     ]
    },
    {
     "name": "stderr",
     "output_type": "stream",
     "text": [
      "\n",
      " 20%|████████████████▌                                                                  | 3/15 [00:07<00:30,  2.51s/it]"
     ]
    },
    {
     "name": "stdout",
     "output_type": "stream",
     "text": [
      "[[-0.19923687  1.9003673   1.7506068  -0.3190893   0.5580561 ]\n",
      " [-0.04426694 -3.094807    3.3773396   0.27588475 -3.949022  ]\n",
      " [ 1.8648359   0.47042167  1.9952816   2.9479117  -0.8230318 ]\n",
      " [-0.6256298  -0.41905138 -1.5263345  -1.1933721  -4.3511887 ]]\n"
     ]
    },
    {
     "name": "stderr",
     "output_type": "stream",
     "text": [
      "\n",
      " 27%|██████████████████████▏                                                            | 4/15 [00:10<00:27,  2.52s/it]"
     ]
    },
    {
     "name": "stdout",
     "output_type": "stream",
     "text": [
      "[[ 1.751114   -2.5729814   2.1143568   3.9813924  -2.9538107 ]\n",
      " [ 2.6450338  -1.7941922   3.4489884  -4.0781884  -0.45283413]\n",
      " [-1.4350189   0.43967178  2.922081    1.2217164   0.12295938]\n",
      " [-2.2841628  -0.8512193   2.303474   -0.39419132  0.49848825]]\n"
     ]
    },
    {
     "name": "stderr",
     "output_type": "stream",
     "text": [
      "\n",
      " 33%|███████████████████████████▋                                                       | 5/15 [00:12<00:25,  2.54s/it]"
     ]
    },
    {
     "name": "stdout",
     "output_type": "stream",
     "text": [
      "[[-3.8097224   0.30958283 -0.4565838   2.386636    1.1628952 ]\n",
      " [ 1.5872381   1.1374856   1.4270022   1.7395712   0.9371445 ]\n",
      " [ 1.6284523   2.0249305  -2.45578    -1.2384346  -0.49136114]\n",
      " [-0.80578285  0.4795032   1.9211295   1.883184   -0.2698782 ]]\n"
     ]
    },
    {
     "name": "stderr",
     "output_type": "stream",
     "text": [
      "\n",
      " 40%|█████████████████████████████████▏                                                 | 6/15 [00:15<00:22,  2.55s/it]"
     ]
    },
    {
     "name": "stdout",
     "output_type": "stream",
     "text": [
      "[[ 2.0375366  -1.3325603   1.006366   -0.34803474 -0.2909892 ]\n",
      " [ 0.07616591 -2.9164734   2.445856   -0.44276053 -3.4171872 ]\n",
      " [-1.3118902  -0.4246679   1.4732015   2.434031    2.0835261 ]\n",
      " [ 0.7636532   1.0853993   0.30208945  1.618526   -1.6942195 ]]\n"
     ]
    },
    {
     "name": "stderr",
     "output_type": "stream",
     "text": [
      "\n",
      " 47%|██████████████████████████████████████▋                                            | 7/15 [00:17<00:20,  2.54s/it]"
     ]
    },
    {
     "name": "stdout",
     "output_type": "stream",
     "text": [
      "[[ 0.22957636  0.54585683 -0.97418684 -1.4761529   1.0252862 ]\n",
      " [-1.8755783  -0.63109356  1.4670994   2.0103464   0.15085828]\n",
      " [ 2.6766162  -1.3588872   0.25184387  0.11160386  0.09567618]\n",
      " [ 1.1173662  -1.4406329   0.6606654   0.19652721 -2.9100666 ]]\n"
     ]
    },
    {
     "name": "stderr",
     "output_type": "stream",
     "text": [
      "\n",
      " 53%|████████████████████████████████████████████▎                                      | 8/15 [00:20<00:17,  2.52s/it]"
     ]
    },
    {
     "name": "stdout",
     "output_type": "stream",
     "text": [
      "[[ 0.12834859  1.086606    3.2203474   0.10495684 -2.0498557 ]\n",
      " [-0.17157125 -1.3609293   0.8301772   0.38709867 -0.4842849 ]\n",
      " [-2.448149   -0.38691318  0.48877484 -0.96200144 -1.4785879 ]\n",
      " [-0.35682243  2.1600866   2.980429    1.3017629  -0.6851653 ]]\n"
     ]
    },
    {
     "name": "stderr",
     "output_type": "stream",
     "text": [
      "\n",
      " 60%|█████████████████████████████████████████████████▊                                 | 9/15 [00:22<00:15,  2.54s/it]"
     ]
    },
    {
     "name": "stdout",
     "output_type": "stream",
     "text": [
      "[[-0.03984666 -1.1958008  -0.5993755   4.5032687  -2.8298109 ]\n",
      " [ 0.17729378 -1.2027917   3.7751064   2.8458042  -0.18026412]\n",
      " [-1.129949   -1.2836524   0.2468307   2.6056828  -5.9139957 ]\n",
      " [ 0.16117734 -0.30081117  2.9587402   0.30785918 -4.7267194 ]]\n"
     ]
    },
    {
     "name": "stderr",
     "output_type": "stream",
     "text": [
      "\n",
      " 67%|██████████████████████████████████████████████████████▋                           | 10/15 [00:25<00:12,  2.54s/it]"
     ]
    },
    {
     "name": "stdout",
     "output_type": "stream",
     "text": [
      "[[ 4.529557   -0.05609214  2.9863508   2.5612402  -2.4380987 ]\n",
      " [ 2.787089   -0.5700672  -0.7255242  -0.02045822 -1.6614031 ]\n",
      " [ 0.6132034  -0.06487578 -0.09566438 -0.03814536  0.13342693]\n",
      " [ 0.15957284  0.6594765  -0.80084574  1.7327429   2.57348   ]]\n"
     ]
    },
    {
     "name": "stderr",
     "output_type": "stream",
     "text": [
      "\n",
      " 73%|████████████████████████████████████████████████████████████▏                     | 11/15 [00:27<00:10,  2.53s/it]"
     ]
    },
    {
     "name": "stdout",
     "output_type": "stream",
     "text": [
      "[[-0.14580452 -1.9134212  -0.34757376  2.4710193   0.7983114 ]\n",
      " [ 0.1518246  -2.5116677   0.46315074  2.0231087  -1.3124743 ]\n",
      " [-0.6121576   0.01997292  1.0356767   1.8905116  -0.7792913 ]\n",
      " [ 0.2188842  -1.1743188   1.6322142  -1.7001027  -0.34942007]]\n"
     ]
    },
    {
     "name": "stderr",
     "output_type": "stream",
     "text": [
      "\n",
      " 80%|█████████████████████████████████████████████████████████████████▌                | 12/15 [00:30<00:07,  2.52s/it]"
     ]
    },
    {
     "name": "stdout",
     "output_type": "stream",
     "text": [
      "[[-4.37158     1.1129571  -0.95387256  2.2981532   1.450934  ]\n",
      " [ 3.190446    1.6097658   4.386865   -2.3923666  -1.4653624 ]\n",
      " [-0.21097654  0.9020622  -1.0605792   1.1411896   2.7347288 ]\n",
      " [ 1.6330447  -0.715176    2.3687348   0.28286943 -0.8263135 ]]\n"
     ]
    },
    {
     "name": "stderr",
     "output_type": "stream",
     "text": [
      "\n",
      " 87%|███████████████████████████████████████████████████████████████████████           | 13/15 [00:32<00:05,  2.52s/it]"
     ]
    },
    {
     "name": "stdout",
     "output_type": "stream",
     "text": [
      "[[ 0.08220448 -1.7994413   4.372915    0.8592059  -0.21769589]\n",
      " [ 2.8466835   1.1009886   3.1772022   2.0672684  -5.776313  ]\n",
      " [-0.834476   -2.063568    0.33747208  1.5294077   0.64937425]\n",
      " [ 0.5620744  -1.660891   -0.93188226 -0.27938634  1.172651  ]]\n"
     ]
    },
    {
     "name": "stderr",
     "output_type": "stream",
     "text": [
      "\n",
      " 93%|████████████████████████████████████████████████████████████████████████████▌     | 14/15 [00:35<00:02,  2.51s/it]"
     ]
    },
    {
     "name": "stdout",
     "output_type": "stream",
     "text": [
      "[[-2.5567682  -3.9974277   2.5702014   3.3060408  -2.3027196 ]\n",
      " [-1.7663634  -0.7701394   2.6533697  -0.12287974 -1.4881757 ]\n",
      " [ 0.56581676 -0.52715755  1.4648464   0.6845546  -0.46425158]\n",
      " [ 0.54149485 -1.3806031   0.9451669  -2.5553384  -0.57204896]]\n"
     ]
    },
    {
     "name": "stderr",
     "output_type": "stream",
     "text": [
      "\n",
      "100%|██████████████████████████████████████████████████████████████████████████████████| 15/15 [00:37<00:00,  2.51s/it]\n"
     ]
    },
    {
     "name": "stdout",
     "output_type": "stream",
     "text": [
      "Epoch: 4 Avg. cost : 0.0\n"
     ]
    },
    {
     "name": "stderr",
     "output_type": "stream",
     "text": [
      "\n",
      "  0%|                                                                                           | 0/15 [00:00<?, ?it/s]"
     ]
    },
    {
     "name": "stdout",
     "output_type": "stream",
     "text": [
      "[[-1.1304415   0.5995097  -1.9680537  -0.07959789  1.3000888 ]\n",
      " [-0.67945796 -0.97539496 -0.4228069   1.2925276  -0.4915324 ]\n",
      " [ 1.0670431  -1.6415632  -1.3403386   0.45120564  0.48720455]\n",
      " [ 1.3741155  -0.13545305  0.49788874  1.6734267  -3.5306547 ]]\n"
     ]
    },
    {
     "name": "stderr",
     "output_type": "stream",
     "text": [
      "\n",
      "  7%|█████▌                                                                             | 1/15 [00:02<00:34,  2.47s/it]"
     ]
    },
    {
     "name": "stdout",
     "output_type": "stream",
     "text": [
      "[[ 3.769028    2.0532455   2.6567452   2.423047   -3.0638733 ]\n",
      " [-1.1340063  -1.6936476   1.5743699   1.199311   -3.508288  ]\n",
      " [-0.6094514   0.04964152  1.9690068   0.5468351   0.51366216]\n",
      " [-2.8730783  -0.18281265  0.6948464   0.11747479 -2.052561  ]]\n"
     ]
    },
    {
     "name": "stderr",
     "output_type": "stream",
     "text": [
      "\n",
      " 13%|███████████                                                                        | 2/15 [00:04<00:32,  2.47s/it]"
     ]
    },
    {
     "name": "stdout",
     "output_type": "stream",
     "text": [
      "[[ 2.3935146   0.22115219 -1.8786888   1.3425336   0.73507106]\n",
      " [-0.8345594  -3.1550298  -0.40028664  2.322005    1.0588999 ]\n",
      " [-0.41094774 -1.953318   -0.5089799   0.85368955  0.18489727]\n",
      " [-0.5390152   0.30394554  0.91145045  1.9128362  -0.34722966]]\n"
     ]
    },
    {
     "name": "stderr",
     "output_type": "stream",
     "text": [
      "\n",
      " 20%|████████████████▌                                                                  | 3/15 [00:07<00:29,  2.48s/it]"
     ]
    },
    {
     "name": "stdout",
     "output_type": "stream",
     "text": [
      "[[-3.5811706  -1.7047863   3.464355   -0.92288065 -4.254138  ]\n",
      " [ 2.8378859  -1.5850849   1.9926875   3.1685505  -0.19414568]\n",
      " [-3.3821104   1.191621    3.146461    1.7179568  -1.1950426 ]\n",
      " [ 4.8847637  -2.1063297   1.3913714  -0.24625736 -0.310778  ]]\n"
     ]
    },
    {
     "name": "stderr",
     "output_type": "stream",
     "text": [
      "\n",
      " 27%|██████████████████████▏                                                            | 4/15 [00:09<00:27,  2.48s/it]"
     ]
    },
    {
     "name": "stdout",
     "output_type": "stream",
     "text": [
      "[[-0.95496786 -1.1592115   1.2685466  -0.37924647 -0.29304686]\n",
      " [-0.63056815  1.871006    4.5786157  -1.2725152  -7.7575874 ]\n",
      " [-0.9848243  -1.4181883   1.4980967   1.2863488  -0.03811404]\n",
      " [-1.8355978  -0.02206218  0.43795314 -0.58705974 -1.0475118 ]]\n"
     ]
    },
    {
     "name": "stderr",
     "output_type": "stream",
     "text": [
      "\n",
      " 33%|███████████████████████████▋                                                       | 5/15 [00:12<00:24,  2.49s/it]"
     ]
    },
    {
     "name": "stdout",
     "output_type": "stream",
     "text": [
      "[[ 0.01793742  0.4860555  -0.7065406   1.0924256  -2.9511485 ]\n",
      " [ 1.6214659   0.6197353   1.8966295   2.2154517   1.6406994 ]\n",
      " [-2.254929   -1.3430666   1.4217836   0.37298512 -2.118985  ]\n",
      " [-1.9668695   1.9615834   1.6311445   1.3673687  -0.02982154]]\n"
     ]
    },
    {
     "name": "stderr",
     "output_type": "stream",
     "text": [
      "\n",
      " 40%|█████████████████████████████████▏                                                 | 6/15 [00:14<00:22,  2.49s/it]"
     ]
    },
    {
     "name": "stdout",
     "output_type": "stream",
     "text": [
      "[[ 0.6617154   0.9713658   3.436392    3.0370588   0.56681436]\n",
      " [-1.6883746  -0.5270229   3.3124752   2.7780633  -1.2121243 ]\n",
      " [ 0.7632644   1.0279698   3.9475868   2.793946    0.7993293 ]\n",
      " [-0.765767    1.28864    -0.561527    0.63474554 -0.55746585]]\n"
     ]
    },
    {
     "name": "stderr",
     "output_type": "stream",
     "text": [
      "\n",
      " 47%|██████████████████████████████████████▋                                            | 7/15 [00:17<00:19,  2.49s/it]"
     ]
    },
    {
     "name": "stdout",
     "output_type": "stream",
     "text": [
      "[[-1.3967261   1.5422846   1.3693097   1.6845369   0.02003869]\n",
      " [ 0.32597297 -1.7556742   0.54273766  0.24725166  0.48178387]\n",
      " [-1.2498102   0.02925152  1.845851    0.01903981  0.03217223]\n",
      " [ 0.23286939  0.17102528  2.0713036   0.69473565  1.6522549 ]]\n"
     ]
    },
    {
     "name": "stderr",
     "output_type": "stream",
     "text": [
      "\n",
      " 53%|████████████████████████████████████████████▎                                      | 8/15 [00:19<00:17,  2.50s/it]"
     ]
    },
    {
     "name": "stdout",
     "output_type": "stream",
     "text": [
      "[[-3.16725    -0.4997986   2.468396    1.1651742  -0.8743515 ]\n",
      " [-0.60172176 -0.39385918 -0.05723649  0.5286442  -0.3169362 ]\n",
      " [-0.823769    0.3897652  -1.1368951   1.4959857  -0.38631973]\n",
      " [ 0.8610439   0.47713     0.68934596  1.1691687  -1.5033953 ]]\n"
     ]
    },
    {
     "name": "stderr",
     "output_type": "stream",
     "text": [
      "\n",
      " 60%|█████████████████████████████████████████████████▊                                 | 9/15 [00:22<00:15,  2.51s/it]"
     ]
    },
    {
     "name": "stdout",
     "output_type": "stream",
     "text": [
      "[[-3.1056607  -0.6949401   0.5790688   0.75957185 -1.2496016 ]\n",
      " [ 0.3518355  -4.392475   -0.6315118   2.1505864  -2.1368973 ]\n",
      " [ 0.71639645 -4.078667   -0.5918579   5.9438853  -1.779015  ]\n",
      " [ 1.6653948   1.5322597   2.9764252  -3.0551586  -1.0402586 ]]\n"
     ]
    },
    {
     "name": "stderr",
     "output_type": "stream",
     "text": [
      "\n",
      " 67%|██████████████████████████████████████████████████████▋                           | 10/15 [00:25<00:12,  2.52s/it]"
     ]
    },
    {
     "name": "stdout",
     "output_type": "stream",
     "text": [
      "[[-2.8511424   0.26882696  1.271383   -0.32779992  0.6438489 ]\n",
      " [ 1.547434   -0.07142991  2.3188696   1.1224442  -3.8982751 ]\n",
      " [ 0.10541886 -0.28101975  0.5071026   3.1795452  -0.5678103 ]\n",
      " [-0.22438183 -0.64569026  0.38570118  0.39197618 -1.5933356 ]]\n"
     ]
    },
    {
     "name": "stderr",
     "output_type": "stream",
     "text": [
      "\n",
      " 73%|████████████████████████████████████████████████████████████▏                     | 11/15 [00:27<00:10,  2.52s/it]"
     ]
    },
    {
     "name": "stdout",
     "output_type": "stream",
     "text": [
      "[[-0.6940023  -0.20791103  3.6467834   6.0788274  -2.9016314 ]\n",
      " [-1.3792293  -0.5283339   0.3147878   0.5288642   1.4544156 ]\n",
      " [-1.3002917  -1.0434401  -0.20125711  2.885046   -0.35330456]\n",
      " [-0.18923716 -3.8193896   0.3706044  -0.21196032 -0.04592587]]\n"
     ]
    },
    {
     "name": "stderr",
     "output_type": "stream",
     "text": [
      "\n",
      " 80%|█████████████████████████████████████████████████████████████████▌                | 12/15 [00:30<00:07,  2.51s/it]"
     ]
    },
    {
     "name": "stdout",
     "output_type": "stream",
     "text": [
      "[[ 0.15970755  2.7626598   2.0005064   1.1599004  -0.8153005 ]\n",
      " [ 2.1056333  -4.7091713   2.999153   -4.152234   -5.194749  ]\n",
      " [ 0.2563634   1.1805933  -0.25694162  2.1108277   0.10425252]\n",
      " [-0.21151507  0.3563385   2.2054536  -0.69983095 -0.33608654]]\n"
     ]
    },
    {
     "name": "stderr",
     "output_type": "stream",
     "text": [
      "\n",
      " 87%|███████████████████████████████████████████████████████████████████████           | 13/15 [00:32<00:05,  2.50s/it]"
     ]
    },
    {
     "name": "stdout",
     "output_type": "stream",
     "text": [
      "[[-1.4368037   1.5535278   1.2798831  -1.0734717   1.1629882 ]\n",
      " [-0.39600194  1.3540822   5.324066    2.1740656  -0.09069252]\n",
      " [-1.3401825  -2.5148485   0.9020619   2.9280233  -0.04179895]\n",
      " [ 0.08521014  0.739117    0.3411622   0.5947067  -1.0544219 ]]\n"
     ]
    },
    {
     "name": "stderr",
     "output_type": "stream",
     "text": [
      "\n",
      " 93%|████████████████████████████████████████████████████████████████████████████▌     | 14/15 [00:35<00:02,  2.51s/it]"
     ]
    },
    {
     "name": "stdout",
     "output_type": "stream",
     "text": [
      "[[ 1.67485    -2.1298375   2.9549847   4.0381393   1.3222299 ]\n",
      " [-2.2458382  -1.3332758  -0.55979246 -2.879849   -6.9359636 ]\n",
      " [-0.35521853  0.6411975   2.2079177  -0.85563165  1.7125473 ]\n",
      " [ 2.9840746  -0.59870636  0.2885816   2.2124405  -2.5188985 ]]\n"
     ]
    },
    {
     "name": "stderr",
     "output_type": "stream",
     "text": [
      "\n",
      "100%|██████████████████████████████████████████████████████████████████████████████████| 15/15 [00:37<00:00,  2.50s/it]\n"
     ]
    },
    {
     "name": "stdout",
     "output_type": "stream",
     "text": [
      "Epoch: 5 Avg. cost : 0.0\n"
     ]
    },
    {
     "name": "stderr",
     "output_type": "stream",
     "text": [
      "\n",
      "  0%|                                                                                           | 0/15 [00:00<?, ?it/s]"
     ]
    },
    {
     "name": "stdout",
     "output_type": "stream",
     "text": [
      "[[-0.35170424 -0.15980124  0.21171021  2.090093   -0.20582989]\n",
      " [ 2.1085787  -3.2137883  -1.9508572  -1.7281828  -0.2047321 ]\n",
      " [ 1.0579727  -0.27971637 -1.2293767  -0.255243   -3.5145009 ]\n",
      " [ 1.9484422   0.48436475  3.317095    1.9270029  -1.1147679 ]]\n"
     ]
    },
    {
     "name": "stderr",
     "output_type": "stream",
     "text": [
      "\n",
      "  7%|█████▌                                                                             | 1/15 [00:02<00:34,  2.48s/it]"
     ]
    },
    {
     "name": "stdout",
     "output_type": "stream",
     "text": [
      "[[ 0.3508464  -0.7275478  -0.30852866  2.9480133  -0.7276287 ]\n",
      " [ 1.0532485  -1.9628885   3.1795866  -0.2325927   0.85915667]\n",
      " [-3.2761045   0.18174368  2.4382432   3.3181286  -1.1403499 ]\n",
      " [ 0.19665751 -0.8592793   3.2209973   0.9510336  -0.02743495]]\n"
     ]
    },
    {
     "name": "stderr",
     "output_type": "stream",
     "text": [
      "\n",
      " 13%|███████████                                                                        | 2/15 [00:04<00:32,  2.49s/it]"
     ]
    },
    {
     "name": "stdout",
     "output_type": "stream",
     "text": [
      "[[ 0.551763   -0.68319654 -0.36364162  1.1859739  -2.742768  ]\n",
      " [ 1.6382192  -0.33193442 -0.986586    0.1826677   0.8147543 ]\n",
      " [-0.29551864 -2.3473566  -2.431225    1.1313341  -0.00297046]\n",
      " [-0.7944665  -0.5847174   0.18543708 -0.36270735 -0.92943585]]\n"
     ]
    },
    {
     "name": "stderr",
     "output_type": "stream",
     "text": [
      "\n",
      " 20%|████████████████▌                                                                  | 3/15 [00:07<00:29,  2.49s/it]"
     ]
    },
    {
     "name": "stdout",
     "output_type": "stream",
     "text": [
      "[[ 1.045773   -4.572703    1.09141     3.5319467   0.07776743]\n",
      " [-1.0818278   0.4739496   0.92332006  1.3236775  -2.4776466 ]\n",
      " [-1.4486974  -1.170244    4.505345    3.026594    1.1649467 ]\n",
      " [ 0.5689291  -1.6578324   5.2653947  -0.40056384 -2.1135688 ]]\n"
     ]
    },
    {
     "name": "stderr",
     "output_type": "stream",
     "text": [
      "\n",
      " 27%|██████████████████████▏                                                            | 4/15 [00:09<00:27,  2.49s/it]"
     ]
    },
    {
     "name": "stdout",
     "output_type": "stream",
     "text": [
      "[[-0.9265374  -3.1331213   0.37421465  1.0109547  -0.4142822 ]\n",
      " [ 2.752419    2.5707467   4.751854   -1.647034   -1.5974677 ]\n",
      " [-1.0438654  -0.710213    2.295061    1.4002693   1.4196715 ]\n",
      " [-0.28755665 -0.7078539  -0.14435059  2.0903585  -0.19081068]]\n"
     ]
    },
    {
     "name": "stderr",
     "output_type": "stream",
     "text": [
      "\n",
      " 33%|███████████████████████████▋                                                       | 5/15 [00:12<00:24,  2.48s/it]"
     ]
    },
    {
     "name": "stdout",
     "output_type": "stream",
     "text": [
      "[[ 2.4134007   0.2841276   1.5411011  -0.8368868   1.5691161 ]\n",
      " [-0.7783084   0.972319    2.2714531  -0.4525359  -0.4636377 ]\n",
      " [ 1.4452598   2.3401577   1.5834965   3.0031207  -0.34982044]\n",
      " [ 3.3133857  -0.437029    1.9973408   2.4182332  -1.076972  ]]\n"
     ]
    },
    {
     "name": "stderr",
     "output_type": "stream",
     "text": [
      "\n",
      " 40%|█████████████████████████████████▏                                                 | 6/15 [00:14<00:22,  2.49s/it]"
     ]
    },
    {
     "name": "stdout",
     "output_type": "stream",
     "text": [
      "[[-1.545827    1.661921    0.47719187  1.942843    2.228054  ]\n",
      " [ 0.00435585 -0.2598142   0.11913204  0.7721112  -2.0342672 ]\n",
      " [ 1.0263511   0.08203286  0.9173498   1.9715877   0.91463935]\n",
      " [-1.1355305  -3.3063347   1.5467577   2.0671272   1.6975735 ]]\n"
     ]
    },
    {
     "name": "stderr",
     "output_type": "stream",
     "text": [
      "\n",
      " 47%|██████████████████████████████████████▋                                            | 7/15 [00:17<00:19,  2.48s/it]"
     ]
    },
    {
     "name": "stdout",
     "output_type": "stream",
     "text": [
      "[[ 1.27964     0.8949939   1.1065799   0.23862982  0.51229006]\n",
      " [-1.7336183   0.41690975  2.340464    0.90986705 -0.83664834]\n",
      " [ 1.0724218  -1.0644809   1.2443534  -0.19753593  0.5883545 ]\n",
      " [-0.12897094  0.39544916 -0.63423043  1.4997919  -1.5152742 ]]\n"
     ]
    },
    {
     "name": "stderr",
     "output_type": "stream",
     "text": [
      "\n",
      " 53%|████████████████████████████████████████████▎                                      | 8/15 [00:19<00:17,  2.48s/it]"
     ]
    },
    {
     "name": "stdout",
     "output_type": "stream",
     "text": [
      "[[ 0.1665144  -0.14558733 -0.18187341  2.169246    1.5312407 ]\n",
      " [-0.13856468  0.57756424  2.2854629  -0.6162548   0.113388  ]\n",
      " [-2.0025973   0.68326515  1.3637403  -0.5623441  -0.3036924 ]\n",
      " [ 1.3400209   0.466187    1.5681901   0.08190072 -1.4899101 ]]\n"
     ]
    },
    {
     "name": "stderr",
     "output_type": "stream",
     "text": [
      "\n",
      " 60%|█████████████████████████████████████████████████▊                                 | 9/15 [00:22<00:14,  2.48s/it]"
     ]
    },
    {
     "name": "stdout",
     "output_type": "stream",
     "text": [
      "[[-1.2144971   0.3206278  -3.5271823  -0.24912286  0.7298974 ]\n",
      " [-0.9527071   0.993101    1.772581    3.4457161  -0.71722955]\n",
      " [-0.2931338   0.17279804  0.33422518  0.78082556  0.5140139 ]\n",
      " [-0.23840046 -1.3948779   2.483307   -2.021199   -1.6032038 ]]\n"
     ]
    },
    {
     "name": "stderr",
     "output_type": "stream",
     "text": [
      "\n",
      " 67%|██████████████████████████████████████████████████████▋                           | 10/15 [00:24<00:12,  2.49s/it]"
     ]
    },
    {
     "name": "stdout",
     "output_type": "stream",
     "text": [
      "[[ 1.1045188  -2.9183254   0.80555224  4.0223875  -0.17916054]\n",
      " [ 0.49155435 -1.7027624   2.9869356  -2.9726574  -1.6847162 ]\n",
      " [-0.6280241   0.07892096  2.8390121   1.7519509   0.913064  ]\n",
      " [ 0.770084    1.0779064   2.6925154   0.86610734 -1.8823187 ]]\n"
     ]
    },
    {
     "name": "stderr",
     "output_type": "stream",
     "text": [
      "\n",
      " 73%|████████████████████████████████████████████████████████████▏                     | 11/15 [00:27<00:09,  2.48s/it]"
     ]
    },
    {
     "name": "stdout",
     "output_type": "stream",
     "text": [
      "[[-0.42644733 -2.3471837   5.1340237   3.3525443  -3.0351858 ]\n",
      " [ 0.5056702  -0.7667419   2.9133692  -1.4871647  -1.4269745 ]\n",
      " [ 0.54727834  1.6926203   1.084292    1.7626169  -3.3071618 ]\n",
      " [-2.101449   -2.7923312   0.84471345 -1.9756675   0.7091461 ]]\n"
     ]
    },
    {
     "name": "stderr",
     "output_type": "stream",
     "text": [
      "\n",
      " 80%|█████████████████████████████████████████████████████████████████▌                | 12/15 [00:29<00:07,  2.50s/it]"
     ]
    },
    {
     "name": "stdout",
     "output_type": "stream",
     "text": [
      "[[ 0.699649   -0.33161402  0.8090546  -0.70042825 -2.3704798 ]\n",
      " [-0.7248293  -3.603147   -0.74082637  1.3188651   0.89446986]\n",
      " [-1.9631515   0.91544574 -1.2102451  -1.6560636  -0.8172309 ]\n",
      " [ 1.207692    1.8285868   1.5088506   2.1559577  -0.32140517]]\n"
     ]
    },
    {
     "name": "stderr",
     "output_type": "stream",
     "text": [
      "\n",
      " 87%|███████████████████████████████████████████████████████████████████████           | 13/15 [00:32<00:05,  2.51s/it]"
     ]
    },
    {
     "name": "stdout",
     "output_type": "stream",
     "text": [
      "[[ 3.430719   -0.7219328   1.1067784   2.7231803   0.8559644 ]\n",
      " [-0.9686319  -0.1678527   3.951418   -0.9496373  -3.0637484 ]\n",
      " [-0.56351113 -0.04458767  2.4275196   1.3179711  -0.10283685]\n",
      " [ 2.0492253   0.7957263   0.87162304  0.24913913 -2.3041081 ]]\n"
     ]
    },
    {
     "name": "stderr",
     "output_type": "stream",
     "text": [
      "\n",
      " 93%|████████████████████████████████████████████████████████████████████████████▌     | 14/15 [00:35<00:02,  2.55s/it]"
     ]
    },
    {
     "name": "stdout",
     "output_type": "stream",
     "text": [
      "[[-0.09087527  0.6518611  -0.500237    3.4717076   2.398161  ]\n",
      " [ 0.54443276  4.096387    3.6324668  -1.7018306  -2.2352378 ]\n",
      " [-2.7255998   0.37851992  1.492429    1.1460546  -1.8717588 ]\n",
      " [ 2.274151   -0.60515624  0.8057938   0.35125527 -1.0576187 ]]\n"
     ]
    },
    {
     "name": "stderr",
     "output_type": "stream",
     "text": [
      "\n",
      "100%|██████████████████████████████████████████████████████████████████████████████████| 15/15 [00:37<00:00,  2.55s/it]\n"
     ]
    },
    {
     "name": "stdout",
     "output_type": "stream",
     "text": [
      "Epoch: 6 Avg. cost : 0.0\n"
     ]
    },
    {
     "name": "stderr",
     "output_type": "stream",
     "text": [
      "\n",
      "  0%|                                                                                           | 0/15 [00:00<?, ?it/s]"
     ]
    },
    {
     "name": "stdout",
     "output_type": "stream",
     "text": [
      "[[-2.4828479e+00  2.7278745e+00  1.4218688e-04  6.5446311e-01\n",
      "  -8.4556168e-01]\n",
      " [ 4.8636436e-02 -6.8025246e-02 -1.3104570e+00  3.0941672e+00\n",
      "  -5.5884981e-01]\n",
      " [-1.7574958e+00 -1.1054095e+00 -4.0807185e-01 -5.0795007e-01\n",
      "  -1.1871617e+00]\n",
      " [ 2.0953932e+00 -9.8685145e-01 -2.6786447e-01  6.6202998e-01\n",
      "   6.9305605e-01]]\n"
     ]
    },
    {
     "name": "stderr",
     "output_type": "stream",
     "text": [
      "\n",
      "  7%|█████▌                                                                             | 1/15 [00:02<00:34,  2.49s/it]"
     ]
    },
    {
     "name": "stdout",
     "output_type": "stream",
     "text": [
      "[[-1.3127606   3.1351876   3.3069477   2.1040432   0.99161184]\n",
      " [-0.6151889   4.6248417  -0.739341    4.396317    3.097031  ]\n",
      " [-3.5202205   1.8089569   1.4711456   1.5337315  -1.9802895 ]\n",
      " [ 0.11296497 -2.648689    3.225873    3.5589318  -1.2491827 ]]\n"
     ]
    },
    {
     "name": "stderr",
     "output_type": "stream",
     "text": [
      "\n",
      " 13%|███████████                                                                        | 2/15 [00:05<00:32,  2.50s/it]"
     ]
    },
    {
     "name": "stdout",
     "output_type": "stream",
     "text": [
      "[[ 0.6168305  -0.66803455  0.18128026  1.6332018  -0.28565827]\n",
      " [-0.37562582 -1.4961519  -1.0637531  -0.41775477 -0.38135064]\n",
      " [ 1.3597784  -1.744476    1.9842653  -1.082731    0.4402948 ]\n",
      " [ 2.1976995  -0.5929034   1.7450131  -1.0786784  -1.5884953 ]]\n"
     ]
    },
    {
     "name": "stderr",
     "output_type": "stream",
     "text": [
      "\n",
      " 20%|████████████████▌                                                                  | 3/15 [00:07<00:30,  2.51s/it]"
     ]
    },
    {
     "name": "stdout",
     "output_type": "stream",
     "text": [
      "[[ 1.0444055   1.2026358   2.9914827  -3.9302158  -1.3834703 ]\n",
      " [ 1.5383893   0.429479    1.3930874   1.001442   -3.0635548 ]\n",
      " [-3.3475275   1.0987194   2.579242   -2.1981516  -3.4876966 ]\n",
      " [ 2.1403694  -0.16045415  1.8016981  -0.9382399  -0.87330246]]\n"
     ]
    },
    {
     "name": "stderr",
     "output_type": "stream",
     "text": [
      "\n",
      " 27%|██████████████████████▏                                                            | 4/15 [00:10<00:27,  2.51s/it]"
     ]
    },
    {
     "name": "stdout",
     "output_type": "stream",
     "text": [
      "[[-2.1497169  -0.46476144 -2.3177443   0.53567994  1.7653618 ]\n",
      " [ 0.29323673 -1.5205061   2.277326    0.10818636 -1.8853999 ]\n",
      " [ 0.50984025 -2.6910062   0.5764975   1.2950871  -0.51370126]\n",
      " [ 0.396065   -2.0718935   2.3401022  -0.11255255 -1.5836072 ]]\n"
     ]
    },
    {
     "name": "stderr",
     "output_type": "stream",
     "text": [
      "\n",
      " 33%|███████████████████████████▋                                                       | 5/15 [00:12<00:24,  2.50s/it]"
     ]
    },
    {
     "name": "stdout",
     "output_type": "stream",
     "text": [
      "[[ 1.6780459  -1.7140177  -1.2524141   0.43126452 -2.1868408 ]\n",
      " [-0.34771597  1.3954996   0.7576579  -0.259179    2.3041348 ]\n",
      " [ 0.6619259  -1.8375382  -1.3119704   3.6856682  -1.7453938 ]\n",
      " [ 0.5904052   3.3247256   3.9769816   0.08542883 -1.2679913 ]]\n"
     ]
    },
    {
     "name": "stderr",
     "output_type": "stream",
     "text": [
      "\n",
      " 40%|█████████████████████████████████▏                                                 | 6/15 [00:15<00:22,  2.50s/it]"
     ]
    },
    {
     "name": "stdout",
     "output_type": "stream",
     "text": [
      "[[-1.451391    1.7991823   0.68879735  0.4763912  -0.5686641 ]\n",
      " [ 0.95568466  0.90864235  2.0209568   1.3032665  -0.71718   ]\n",
      " [ 2.137795   -1.446264   -0.788994    1.917703    0.997133  ]\n",
      " [-1.7479825   1.1552088   0.73286724  1.2620219  -1.7968082 ]]\n"
     ]
    },
    {
     "name": "stderr",
     "output_type": "stream",
     "text": [
      "\n",
      " 47%|██████████████████████████████████████▋                                            | 7/15 [00:17<00:19,  2.49s/it]"
     ]
    },
    {
     "name": "stdout",
     "output_type": "stream",
     "text": [
      "[[-0.5698521  -0.93518114  0.27194884  0.01022029  1.194869  ]\n",
      " [-1.0137532  -0.451962   -1.2827247  -1.1969354  -1.8607776 ]\n",
      " [-0.6010642  -0.48091042 -0.01615328 -1.0683367   1.3310248 ]\n",
      " [ 1.89251    -1.4949052   0.5940845   0.2948297  -1.6607316 ]]\n"
     ]
    },
    {
     "name": "stderr",
     "output_type": "stream",
     "text": [
      "\n",
      " 53%|████████████████████████████████████████████▎                                      | 8/15 [00:19<00:17,  2.49s/it]"
     ]
    },
    {
     "name": "stdout",
     "output_type": "stream",
     "text": [
      "[[-0.27743387 -1.5157555   0.5390804   1.2761365   1.8526725 ]\n",
      " [-0.80415165 -1.5046026  -1.1327462  -2.792921   -3.1280503 ]\n",
      " [-1.3230529  -1.7655858   2.3203406   0.6444097   0.57941824]\n",
      " [ 2.2923326   1.3307627   0.46947935  3.0290442  -1.0983256 ]]\n"
     ]
    },
    {
     "name": "stderr",
     "output_type": "stream",
     "text": [
      "\n",
      " 60%|█████████████████████████████████████████████████▊                                 | 9/15 [00:22<00:15,  2.53s/it]"
     ]
    },
    {
     "name": "stdout",
     "output_type": "stream",
     "text": [
      "[[-0.21700013 -4.04914     1.3164679   2.0813758   0.40749574]\n",
      " [ 0.25663358 -5.1719503   0.01975667  0.3144204   1.1206589 ]\n",
      " [ 0.4593532  -2.1999583   4.3221254   0.7222231  -1.6644583 ]\n",
      " [-3.268041   -0.9962903   3.8569613   0.47709596  0.59276354]]\n"
     ]
    },
    {
     "name": "stderr",
     "output_type": "stream",
     "text": [
      "\n",
      " 67%|██████████████████████████████████████████████████████▋                           | 10/15 [00:25<00:12,  2.53s/it]"
     ]
    },
    {
     "name": "stdout",
     "output_type": "stream",
     "text": [
      "[[-0.29798734 -0.9888091   2.4025106   0.00957453  0.24219489]\n",
      " [ 0.981388    0.05230141  1.5715123   1.4665666   0.48618448]\n",
      " [ 0.28911507 -0.80214965 -0.88423204  1.8331685   2.3800585 ]\n",
      " [ 0.3566823  -2.6771755   1.7541139   0.9943059  -1.6250796 ]]\n"
     ]
    },
    {
     "name": "stderr",
     "output_type": "stream",
     "text": [
      "\n",
      " 73%|████████████████████████████████████████████████████████████▏                     | 11/15 [00:27<00:10,  2.53s/it]"
     ]
    },
    {
     "name": "stdout",
     "output_type": "stream",
     "text": [
      "[[ 2.837019    0.68820286  4.8054643   2.6764474   0.32075903]\n",
      " [ 0.6537323  -2.0782619   1.568906   -0.32650816 -2.2790031 ]\n",
      " [ 0.72396207 -1.2011632   1.2971314   0.47430253  0.8749677 ]\n",
      " [-0.27093667 -1.1491237   1.7224982   0.47697318 -0.8270687 ]]\n"
     ]
    },
    {
     "name": "stderr",
     "output_type": "stream",
     "text": [
      "\n",
      " 80%|█████████████████████████████████████████████████████████████████▌                | 12/15 [00:30<00:07,  2.52s/it]"
     ]
    },
    {
     "name": "stdout",
     "output_type": "stream",
     "text": [
      "[[-3.9915485  -0.53182197  0.92527294 -0.9549937  -3.6377172 ]\n",
      " [-3.2524233  -4.0649476   5.1516457  -0.4547754  -4.0769606 ]\n",
      " [-1.4280267   0.48743087  1.3773572   3.2364557   1.4330826 ]\n",
      " [ 0.7680402  -1.1377141   0.4294182  -2.1429148  -2.8274927 ]]\n"
     ]
    },
    {
     "name": "stderr",
     "output_type": "stream",
     "text": [
      "\n",
      " 87%|███████████████████████████████████████████████████████████████████████           | 13/15 [00:32<00:05,  2.52s/it]"
     ]
    },
    {
     "name": "stdout",
     "output_type": "stream",
     "text": [
      "[[-5.1779985   3.359035    2.890242   -0.08345586 -0.9460056 ]\n",
      " [ 1.3156073  -1.2421688   2.4617176   1.5427443  -3.342862  ]\n",
      " [-0.9156394  -1.9919555   1.3195767   0.22101359  0.24532342]\n",
      " [-0.80687594  1.7205008   0.42572945  0.63322514  0.4562185 ]]\n"
     ]
    },
    {
     "name": "stderr",
     "output_type": "stream",
     "text": [
      "\n",
      " 93%|████████████████████████████████████████████████████████████████████████████▌     | 14/15 [00:35<00:02,  2.51s/it]"
     ]
    },
    {
     "name": "stdout",
     "output_type": "stream",
     "text": [
      "[[-0.34828448 -1.1348788   3.353457    1.5233215  -0.03918193]\n",
      " [ 3.1462638  -2.6796153   3.376848    1.531218   -3.9807816 ]\n",
      " [ 2.0676336   0.01245582  1.7772956   0.19477874  1.307922  ]\n",
      " [ 0.05503684 -0.6549697   0.6153177   2.2682872   0.36979222]]\n"
     ]
    },
    {
     "name": "stderr",
     "output_type": "stream",
     "text": [
      "\n",
      "100%|██████████████████████████████████████████████████████████████████████████████████| 15/15 [00:37<00:00,  2.50s/it]\n"
     ]
    },
    {
     "name": "stdout",
     "output_type": "stream",
     "text": [
      "Epoch: 7 Avg. cost : 0.0\n"
     ]
    },
    {
     "name": "stderr",
     "output_type": "stream",
     "text": [
      "\n",
      "  0%|                                                                                           | 0/15 [00:00<?, ?it/s]"
     ]
    },
    {
     "name": "stdout",
     "output_type": "stream",
     "text": [
      "[[ 0.19261992 -1.3840952   0.28534308  0.69517624  0.27923173]\n",
      " [-1.9682181  -1.516085   -0.23415917  2.0027745   0.23205903]\n",
      " [-0.82044756  1.1291971   1.3279713   0.21864605  0.76092505]\n",
      " [-1.5042982   0.11294198  0.2400406  -0.16515386 -0.82885295]]\n"
     ]
    },
    {
     "name": "stderr",
     "output_type": "stream",
     "text": [
      "\n",
      "  7%|█████▌                                                                             | 1/15 [00:02<00:34,  2.49s/it]"
     ]
    },
    {
     "name": "stdout",
     "output_type": "stream",
     "text": [
      "[[-1.6335509  -1.8261708   0.9895741   2.6612742   2.7249436 ]\n",
      " [ 0.03600168 -1.8494233   5.6295767   1.3889271  -2.983193  ]\n",
      " [-1.5995457  -0.63010454 -2.2633734   1.3739793   0.9709321 ]\n",
      " [-0.35705543  0.56663525  3.9209108   0.56423736 -1.2114918 ]]\n"
     ]
    },
    {
     "name": "stderr",
     "output_type": "stream",
     "text": [
      "\n",
      " 13%|███████████                                                                        | 2/15 [00:04<00:32,  2.49s/it]"
     ]
    },
    {
     "name": "stdout",
     "output_type": "stream",
     "text": [
      "[[-1.0067215   0.8519881  -0.5608726   2.9144616   0.64977795]\n",
      " [ 0.7881552  -0.03062405 -0.66727114  1.0117755  -1.1553781 ]\n",
      " [ 1.021812   -1.7502413  -0.40406227  1.3461409  -1.0483909 ]\n",
      " [-0.94998753 -1.7534266  -1.4862227  -0.9280846   0.70426166]]\n"
     ]
    },
    {
     "name": "stderr",
     "output_type": "stream",
     "text": [
      "\n",
      " 20%|████████████████▌                                                                  | 3/15 [00:07<00:30,  2.51s/it]"
     ]
    },
    {
     "name": "stdout",
     "output_type": "stream",
     "text": [
      "[[ 0.0708909   3.4305787   3.786634    1.8268739   0.4222105 ]\n",
      " [ 0.920051    0.6824182   1.2594926   1.7619481  -0.45970625]\n",
      " [-4.308118   -1.3814311  -0.8921035   5.5597887   1.1942377 ]\n",
      " [-0.58908653 -3.534544    1.0334864   2.923168    0.7640822 ]]\n"
     ]
    },
    {
     "name": "stderr",
     "output_type": "stream",
     "text": [
      "\n",
      " 27%|██████████████████████▏                                                            | 4/15 [00:10<00:27,  2.53s/it]"
     ]
    },
    {
     "name": "stdout",
     "output_type": "stream",
     "text": [
      "[[ 3.5110006  -1.8063805  -0.56338835 -0.7515305  -2.7258034 ]\n",
      " [ 3.2767994  -1.868237   -0.26506358  0.75816786 -0.38856736]\n",
      " [ 1.7241712   0.782082    1.5781941   1.0100052  -1.7172577 ]\n",
      " [-0.7386019  -1.365839    3.1455746   1.263151   -2.1359224 ]]\n"
     ]
    },
    {
     "name": "stderr",
     "output_type": "stream",
     "text": [
      "\n",
      " 33%|███████████████████████████▋                                                       | 5/15 [00:12<00:25,  2.55s/it]"
     ]
    },
    {
     "name": "stdout",
     "output_type": "stream",
     "text": [
      "[[ 0.19174355 -1.8255882   0.52886397  1.5431575  -2.3669379 ]\n",
      " [ 2.264318   -0.6029501   1.9503759   1.7774684  -2.0849288 ]\n",
      " [ 0.41993845  1.621      -2.025577    0.47673655  1.3714912 ]\n",
      " [ 1.3931953  -0.80171824  1.662067    2.9273946   2.8298688 ]]\n"
     ]
    },
    {
     "name": "stderr",
     "output_type": "stream",
     "text": [
      "\n",
      " 40%|█████████████████████████████████▏                                                 | 6/15 [00:15<00:22,  2.56s/it]"
     ]
    },
    {
     "name": "stdout",
     "output_type": "stream",
     "text": [
      "[[ 1.1196413  -2.1533988  -0.06008291  0.30461174 -2.1136107 ]\n",
      " [ 0.5082722   0.49641603  4.2430925   1.0353938  -1.6011552 ]\n",
      " [-0.49889693 -0.15697503  0.3493365   0.72507614  2.0011537 ]\n",
      " [ 2.0201006  -0.3689888   1.1159707  -0.86254585 -2.7671564 ]]\n"
     ]
    },
    {
     "name": "stderr",
     "output_type": "stream",
     "text": [
      "\n",
      " 47%|██████████████████████████████████████▋                                            | 7/15 [00:17<00:20,  2.56s/it]"
     ]
    },
    {
     "name": "stdout",
     "output_type": "stream",
     "text": [
      "[[ 1.0325958   0.06377241 -0.9050104  -0.7351372  -0.01605257]\n",
      " [ 0.39491856  0.2337951   0.8340429  -0.49745092 -1.4318554 ]\n",
      " [ 0.24768668 -2.9187272  -0.08740079 -0.11636794  1.050098  ]\n",
      " [ 0.7662112   0.8541682  -0.7470438  -0.07808304 -1.7755167 ]]\n"
     ]
    },
    {
     "name": "stderr",
     "output_type": "stream",
     "text": [
      "\n",
      " 53%|████████████████████████████████████████████▎                                      | 8/15 [00:20<00:17,  2.56s/it]"
     ]
    },
    {
     "name": "stdout",
     "output_type": "stream",
     "text": [
      "[[ 1.3852955   1.1150668   1.736284   -0.41226792  0.8441322 ]\n",
      " [-1.3882682  -2.0924332  -0.6336699  -0.57251567 -1.9623739 ]\n",
      " [ 0.23122872  0.24229074  0.5841508   1.2417771  -0.9227877 ]\n",
      " [-1.8162732   0.43054104  0.98504436  0.15452081 -1.1436731 ]]\n"
     ]
    },
    {
     "name": "stderr",
     "output_type": "stream",
     "text": [
      "\n",
      " 60%|█████████████████████████████████████████████████▊                                 | 9/15 [00:22<00:15,  2.56s/it]"
     ]
    },
    {
     "name": "stdout",
     "output_type": "stream",
     "text": [
      "[[ 1.9148091  -4.9285297  -0.6952596   2.851706    1.8057692 ]\n",
      " [-0.3487904  -1.4512038   1.2342706   2.1246867  -0.72172314]\n",
      " [-1.1353874  -2.7977831   1.3048165  -1.5288808  -0.17885798]\n",
      " [ 2.1701422   3.127955    1.5934339   0.89517343 -1.1541499 ]]\n"
     ]
    },
    {
     "name": "stderr",
     "output_type": "stream",
     "text": [
      "\n",
      " 67%|██████████████████████████████████████████████████████▋                           | 10/15 [00:25<00:12,  2.57s/it]"
     ]
    },
    {
     "name": "stdout",
     "output_type": "stream",
     "text": [
      "[[-0.49578345 -0.09563136  1.7577739  -0.68157446 -0.08393502]\n",
      " [ 2.7412877   0.00613311  2.174036    1.3454163  -3.9355803 ]\n",
      " [ 0.07407236  0.20497221  2.9563162   0.37310725  0.7903335 ]\n",
      " [-0.04984987  0.70684063  2.4786382   0.48960906  1.0313511 ]]\n"
     ]
    },
    {
     "name": "stderr",
     "output_type": "stream",
     "text": [
      "\n",
      " 73%|████████████████████████████████████████████████████████████▏                     | 11/15 [00:28<00:10,  2.57s/it]"
     ]
    },
    {
     "name": "stdout",
     "output_type": "stream",
     "text": [
      "[[-0.09333307  0.9162412  -2.4574554   1.2347733  -4.938096  ]\n",
      " [ 1.5011355  -1.679311    1.0867586   1.3466327  -3.6576726 ]\n",
      " [ 0.14326465  0.17573166  2.2739515   2.4941642  -2.6404057 ]\n",
      " [ 1.304385   -2.675652    1.3439764  -1.475683   -3.8033977 ]]\n"
     ]
    },
    {
     "name": "stderr",
     "output_type": "stream",
     "text": [
      "\n",
      " 80%|█████████████████████████████████████████████████████████████████▌                | 12/15 [00:30<00:07,  2.58s/it]"
     ]
    },
    {
     "name": "stdout",
     "output_type": "stream",
     "text": [
      "[[ 0.43851748 -6.2699575   1.7431735   0.03301167 -3.3966763 ]\n",
      " [ 5.3630557   2.303946    4.39229     0.6146265  -8.4565735 ]\n",
      " [ 0.20224369  0.07289076  0.6407175  -0.58525705 -2.9761782 ]\n",
      " [-0.7876248  -0.2598994  -0.5157875   2.191492   -0.3114944 ]]\n"
     ]
    },
    {
     "name": "stderr",
     "output_type": "stream",
     "text": [
      "\n",
      " 87%|███████████████████████████████████████████████████████████████████████           | 13/15 [00:33<00:05,  2.55s/it]"
     ]
    },
    {
     "name": "stdout",
     "output_type": "stream",
     "text": [
      "[[ 0.01339412  0.9862976   5.6346407   1.0268489  -2.482099  ]\n",
      " [-1.3635758   2.666624    1.1380941   0.61537564 -1.9279062 ]\n",
      " [ 1.2076828   0.61706245  0.93272984 -0.53832424  1.0885415 ]\n",
      " [ 2.6187587  -3.7118485   1.344729   -0.37981647 -2.670102  ]]\n"
     ]
    },
    {
     "name": "stderr",
     "output_type": "stream",
     "text": [
      "\n",
      " 93%|████████████████████████████████████████████████████████████████████████████▌     | 14/15 [00:35<00:02,  2.53s/it]"
     ]
    },
    {
     "name": "stdout",
     "output_type": "stream",
     "text": [
      "[[-5.3938746   0.8155937   3.7769456   4.8806596   0.20203495]\n",
      " [ 2.067628   -1.6497538   3.6703768   2.1235209  -3.0084987 ]\n",
      " [-1.3798267   1.1619372   2.3539906   0.99601775 -2.3132033 ]\n",
      " [ 0.31095764  0.64860666  0.66341746  0.8737522  -1.8198582 ]]\n"
     ]
    },
    {
     "name": "stderr",
     "output_type": "stream",
     "text": [
      "\n",
      "100%|██████████████████████████████████████████████████████████████████████████████████| 15/15 [00:38<00:00,  2.52s/it]\n"
     ]
    },
    {
     "name": "stdout",
     "output_type": "stream",
     "text": [
      "Epoch: 8 Avg. cost : 0.0\n"
     ]
    },
    {
     "name": "stderr",
     "output_type": "stream",
     "text": [
      "\n",
      "  0%|                                                                                           | 0/15 [00:00<?, ?it/s]"
     ]
    },
    {
     "name": "stdout",
     "output_type": "stream",
     "text": [
      "[[ 7.2246867e-01 -9.8565733e-01  2.1690130e-04  6.4497828e-01\n",
      "   1.6619675e+00]\n",
      " [-8.9754426e-01  3.9029950e-01  1.0554956e+00  1.5070333e+00\n",
      "  -3.3703580e+00]\n",
      " [-2.6984620e+00 -1.3692881e+00 -2.3568962e+00  1.9768000e+00\n",
      "  -7.8517568e-01]\n",
      " [ 2.3225260e+00 -1.0748515e+00 -5.3692943e-01  1.1462256e-01\n",
      "  -7.2206533e-01]]\n"
     ]
    },
    {
     "name": "stderr",
     "output_type": "stream",
     "text": [
      "\n",
      "  7%|█████▌                                                                             | 1/15 [00:02<00:35,  2.53s/it]"
     ]
    },
    {
     "name": "stdout",
     "output_type": "stream",
     "text": [
      "[[-1.7919331   0.6200234   2.8060696   6.5354347   2.223135  ]\n",
      " [ 1.9007273   0.13182843  5.4794073  -1.437732   -3.2702582 ]\n",
      " [-5.3090053  -4.1612      3.3109741  -0.7333702   2.293219  ]\n",
      " [ 2.7242053   1.4150913   1.2472551   2.8648868  -0.29465932]]\n"
     ]
    },
    {
     "name": "stderr",
     "output_type": "stream",
     "text": [
      "\n",
      " 13%|███████████                                                                        | 2/15 [00:05<00:32,  2.53s/it]"
     ]
    },
    {
     "name": "stdout",
     "output_type": "stream",
     "text": [
      "[[ 3.3110118   0.52746606 -0.8917593   2.1413755  -0.35598922]\n",
      " [-0.50143945 -2.6546884   2.3581138  -1.569321   -1.7563921 ]\n",
      " [-0.8895533  -1.1394559  -2.109795   -0.6303438   0.6994397 ]\n",
      " [ 0.9056884  -0.35137552 -0.5521939  -0.8232279  -2.3246024 ]]\n"
     ]
    },
    {
     "name": "stderr",
     "output_type": "stream",
     "text": [
      "\n",
      " 20%|████████████████▌                                                                  | 3/15 [00:07<00:30,  2.54s/it]"
     ]
    },
    {
     "name": "stdout",
     "output_type": "stream",
     "text": [
      "[[ 0.53349215  2.4966352   3.1078572   4.698312   -5.04733   ]\n",
      " [ 5.263361    0.0325864   1.8537904  -0.9828823  -0.86150825]\n",
      " [ 1.2308555   1.9603431   1.3309191   0.96833104 -4.001379  ]\n",
      " [ 0.6758598  -1.768383    2.559197    1.3808573  -2.4312038 ]]\n"
     ]
    },
    {
     "name": "stderr",
     "output_type": "stream",
     "text": [
      "\n",
      " 27%|██████████████████████▏                                                            | 4/15 [00:10<00:27,  2.52s/it]"
     ]
    },
    {
     "name": "stdout",
     "output_type": "stream",
     "text": [
      "[[-0.05044711  1.9643666   4.477296    0.51100016 -2.808352  ]\n",
      " [-0.9220573  -0.5402894   3.4900367  -1.194454   -0.5691258 ]\n",
      " [-0.9720516   0.74518657  1.920408    1.967062   -1.7886591 ]\n",
      " [-1.3399508  -0.20407917  0.5217017   0.45282578 -0.7430289 ]]\n"
     ]
    },
    {
     "name": "stderr",
     "output_type": "stream",
     "text": [
      "\n",
      " 33%|███████████████████████████▋                                                       | 5/15 [00:12<00:25,  2.51s/it]"
     ]
    },
    {
     "name": "stdout",
     "output_type": "stream",
     "text": [
      "[[-0.39769363 -0.49088603  2.781363   -0.3064012  -1.7001226 ]\n",
      " [ 0.14129058  0.6298915  -0.94068915  0.5438272  -1.5321556 ]\n",
      " [-1.9884577   1.431168   -0.62622505 -1.3921784   1.8059251 ]\n",
      " [ 0.9330485   1.4072365   0.25746888 -1.7479447  -2.0132997 ]]\n"
     ]
    },
    {
     "name": "stderr",
     "output_type": "stream",
     "text": [
      "\n",
      " 40%|█████████████████████████████████▏                                                 | 6/15 [00:15<00:22,  2.50s/it]"
     ]
    },
    {
     "name": "stdout",
     "output_type": "stream",
     "text": [
      "[[-0.79246664  0.18211251  3.6737995   4.260503    1.2443392 ]\n",
      " [-1.6125147   1.1462549   1.6619304   1.690759   -3.0747776 ]\n",
      " [ 0.42221582 -1.6753061   0.76997036  1.8385298  -1.2755883 ]\n",
      " [ 0.08879247  0.9456972   1.7414157   2.1342325  -0.15605512]]\n"
     ]
    },
    {
     "name": "stderr",
     "output_type": "stream",
     "text": [
      "\n",
      " 47%|██████████████████████████████████████▋                                            | 7/15 [00:17<00:19,  2.49s/it]"
     ]
    },
    {
     "name": "stdout",
     "output_type": "stream",
     "text": [
      "[[-2.1389863   0.9123361   0.9547349  -0.29946756  0.57053685]\n",
      " [ 0.9285776   1.273079    1.4357604   0.1649363  -1.5285199 ]\n",
      " [ 0.4998123  -2.1671705  -0.92269737  0.9628719  -1.4305815 ]\n",
      " [ 0.43427578 -1.3323015   0.2079759   0.03334227 -1.431433  ]]\n"
     ]
    },
    {
     "name": "stderr",
     "output_type": "stream",
     "text": [
      "\n",
      " 53%|████████████████████████████████████████████▎                                      | 8/15 [00:20<00:17,  2.52s/it]"
     ]
    },
    {
     "name": "stdout",
     "output_type": "stream",
     "text": [
      "[[ 0.6941706  -0.28141135  2.3377411   1.9155828  -0.6769404 ]\n",
      " [-0.12450641 -1.0417278   0.87236243  0.17902261 -0.34397548]\n",
      " [ 0.22084093  0.5385163   1.6860996  -0.06928086  0.3168043 ]\n",
      " [ 2.5428967   0.2459749   0.9828837  -0.13414001 -2.2020383 ]]\n"
     ]
    },
    {
     "name": "stderr",
     "output_type": "stream",
     "text": [
      "\n",
      " 60%|█████████████████████████████████████████████████▊                                 | 9/15 [00:22<00:15,  2.54s/it]"
     ]
    },
    {
     "name": "stdout",
     "output_type": "stream",
     "text": [
      "[[ 1.1975776e+00  4.6051317e-01  8.8307595e-01  3.2528815e+00\n",
      "  -2.9798746e-03]\n",
      " [ 3.9267035e+00 -2.1015277e+00  4.3834305e+00  2.7344341e+00\n",
      "   2.1071076e+00]\n",
      " [-6.0033470e-01  2.1039820e-01  2.5610170e+00  4.0786057e+00\n",
      "   5.9898078e-01]\n",
      " [ 3.0358424e+00  1.7708492e+00  3.2361064e+00 -3.3927515e+00\n",
      "  -1.7202270e+00]]\n"
     ]
    },
    {
     "name": "stderr",
     "output_type": "stream",
     "text": [
      "\n",
      " 67%|██████████████████████████████████████████████████████▋                           | 10/15 [00:25<00:12,  2.56s/it]"
     ]
    },
    {
     "name": "stdout",
     "output_type": "stream",
     "text": [
      "[[-3.5642451e-01 -1.6640155e+00 -2.3311186e-01  3.7158504e+00\n",
      "   1.3927217e+00]\n",
      " [-4.8311090e-01 -2.5625629e+00  3.6762476e-02 -1.7391194e+00\n",
      "  -2.3202376e+00]\n",
      " [-9.8145008e-04 -1.7407765e+00  2.2992033e-01  4.2073536e-01\n",
      "   1.0868254e+00]\n",
      " [ 2.3951530e-02 -5.1633501e-01  1.7630177e+00  2.8557110e-01\n",
      "  -9.5308352e-01]]\n"
     ]
    },
    {
     "name": "stderr",
     "output_type": "stream",
     "text": [
      "\n",
      " 73%|████████████████████████████████████████████████████████████▏                     | 11/15 [00:27<00:10,  2.56s/it]"
     ]
    },
    {
     "name": "stdout",
     "output_type": "stream",
     "text": [
      "[[-1.8142719  -3.1769042  -1.0540891   1.6313357  -2.7064886 ]\n",
      " [ 0.05815053 -2.0026453   3.6041555   0.0181284  -2.63631   ]\n",
      " [-0.40175915 -1.9104829   1.4063731  -1.3172235  -1.639114  ]\n",
      " [-0.463843    1.0873516   0.22891676  0.8762492  -4.239972  ]]\n"
     ]
    },
    {
     "name": "stderr",
     "output_type": "stream",
     "text": [
      "\n",
      " 80%|█████████████████████████████████████████████████████████████████▌                | 12/15 [00:30<00:07,  2.55s/it]"
     ]
    },
    {
     "name": "stdout",
     "output_type": "stream",
     "text": [
      "[[-2.2891693   0.8967372   4.8863206   3.0209188   3.080231  ]\n",
      " [ 0.5122454   1.6010761   0.02246124 -1.4414427   2.501158  ]\n",
      " [ 0.05267102 -2.2883582   1.8030964  -0.22223681  0.05348986]\n",
      " [-0.4224087   1.8897072   2.0407107   1.3460963  -1.3866768 ]]\n"
     ]
    },
    {
     "name": "stderr",
     "output_type": "stream",
     "text": [
      "\n",
      " 87%|███████████████████████████████████████████████████████████████████████           | 13/15 [00:32<00:05,  2.55s/it]"
     ]
    },
    {
     "name": "stdout",
     "output_type": "stream",
     "text": [
      "[[ 3.6656356   1.6386101  -0.10576785 -0.94135684  1.3164642 ]\n",
      " [-0.48628533  1.1730247   2.3149214   1.9428577  -0.01582778]\n",
      " [-2.27035     0.92431915 -1.4299799   0.5590618   0.59257853]\n",
      " [ 2.7073097  -1.6753819   0.92468536  0.92358625 -0.15029874]]\n"
     ]
    },
    {
     "name": "stderr",
     "output_type": "stream",
     "text": [
      "\n",
      " 93%|████████████████████████████████████████████████████████████████████████████▌     | 14/15 [00:35<00:02,  2.55s/it]"
     ]
    },
    {
     "name": "stdout",
     "output_type": "stream",
     "text": [
      "[[-4.5314803   1.1451899   3.467778   -1.3110245   2.1761627 ]\n",
      " [-3.6296768  -3.1395812   0.6095587   4.117811   -2.9132516 ]\n",
      " [-1.0948194  -0.17454398  1.0902779   0.01909554  0.55831295]\n",
      " [-1.2750322   1.0984936  -2.0818734  -0.8537392  -0.09707969]]\n"
     ]
    },
    {
     "name": "stderr",
     "output_type": "stream",
     "text": [
      "\n",
      "100%|██████████████████████████████████████████████████████████████████████████████████| 15/15 [00:38<00:00,  2.58s/it]\n"
     ]
    },
    {
     "name": "stdout",
     "output_type": "stream",
     "text": [
      "Epoch: 9 Avg. cost : 0.0\n"
     ]
    }
   ],
   "source": [
    "if __name__ == \"__main__\":\n",
    "    c3dnet = Model()\n",
    "    c3dnet.train(X_train, y_train)\n",
    "#     c3dnet.test(X_train, y_train)"
   ]
  },
  {
   "cell_type": "code",
   "execution_count": 19,
   "metadata": {},
   "outputs": [
    {
     "data": {
      "text/plain": [
       "((30, 30, 112, 112, 3), (30, 5))"
      ]
     },
     "execution_count": 19,
     "metadata": {},
     "output_type": "execute_result"
    }
   ],
   "source": [
    "X_train.shape ,y_train.shape\n"
   ]
  }
 ],
 "metadata": {
  "kernelspec": {
   "display_name": "Python 3",
   "language": "python",
   "name": "python3"
  },
  "language_info": {
   "codemirror_mode": {
    "name": "ipython",
    "version": 3
   },
   "file_extension": ".py",
   "mimetype": "text/x-python",
   "name": "python",
   "nbconvert_exporter": "python",
   "pygments_lexer": "ipython3",
   "version": "3.6.7"
  }
 },
 "nbformat": 4,
 "nbformat_minor": 2
}
