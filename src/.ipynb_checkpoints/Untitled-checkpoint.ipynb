{
 "cells": [
  {
   "cell_type": "code",
   "execution_count": 8,
   "metadata": {},
   "outputs": [],
   "source": [
    "import os\n",
    "from six.moves import xrange\n",
    "import tensorflow as tf\n",
    "import PIL.Image as Image\n",
    "import random\n",
    "import numpy as np\n",
    "import cv2\n",
    "import time"
   ]
  },
  {
   "cell_type": "code",
   "execution_count": 9,
   "metadata": {},
   "outputs": [],
   "source": [
    "def get_frames_data(filename, num_frames_per_clip=60):\n",
    "    ret_arr = []\n",
    "    s_index = 0\n",
    "    for parent, dirnames, filenames in os.walk(filename):\n",
    "        if(len(filenames)<num_frames_per_clip):\n",
    "            return [], s_index\n",
    "        filenames = sorted(filenames)\n",
    "        s_index = random.randint(0, len(filenames)-num_frames_per_clip)\n",
    "        for i in range(s_index, s_index+num_frames_per_clip):\n",
    "            image_name = str(filename)+'/'+str(filenames[i])\n",
    "            img = Image.open(image_name)\n",
    "            img_data = np.array(img)\n",
    "            ret_arr.append(img_data)\n",
    "    return ret_arr, s_index"
   ]
  },
  {
   "cell_type": "code",
   "execution_count": 13,
   "metadata": {},
   "outputs": [],
   "source": [
    "if __name__ == \"__main__\":\n",
    "    a,b= get_frames_data('../data/frames/cute/')\n",
    "    a[0]"
   ]
  }
 ],
 "metadata": {
  "kernelspec": {
   "display_name": "Python 3",
   "language": "python",
   "name": "python3"
  },
  "language_info": {
   "codemirror_mode": {
    "name": "ipython",
    "version": 3
   },
   "file_extension": ".py",
   "mimetype": "text/x-python",
   "name": "python",
   "nbconvert_exporter": "python",
   "pygments_lexer": "ipython3",
   "version": "3.6.7"
  }
 },
 "nbformat": 4,
 "nbformat_minor": 2
}
